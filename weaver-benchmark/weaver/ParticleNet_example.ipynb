{
 "cells": [
  {
   "cell_type": "code",
   "execution_count": 83,
   "id": "1ed08c3f",
   "metadata": {},
   "outputs": [],
   "source": [
    "import torch\n",
    "import argparse\n",
    "import train\n",
    "import glob\n",
    "import functools\n",
    "import uproot\n",
    "import torch.nn as nn\n",
    "import torch_geometric.transforms as T\n",
    "import os.path as osp\n",
    "import numpy as np\n",
    "import pandas as pd\n",
    "from utils.nn.model.ParticleNet import ParticleNet, FeatureConv\n",
    "from utils.dataset import SimpleIterDataset\n",
    "from torch_geometric.data import InMemoryDataset, download_url\n",
    "from torch_geometric.loader import DataLoader\n",
    "from torch_geometric.data import Data, DataListLoader, Batch\n",
    "from torch.utils.data import random_split\n",
    "from tqdm.notebook import tqdm\n",
    "from utils.nn.optimizer.ranger import Ranger\n",
    "from utils.logger import _logger, _configLogger"
   ]
  },
  {
   "cell_type": "code",
   "execution_count": 49,
   "id": "52ac1a71-e955-40a4-8fc4-03606398c6c5",
   "metadata": {},
   "outputs": [],
   "source": [
    "def test_load(data_test,data_conf):\n",
    "    \"\"\"\n",
    "    Loads the test data.\n",
    "    :param args:\n",
    "    :return: test_loaders, data_config\n",
    "    \"\"\"\n",
    "    # keyword-based --data-test: 'a:/path/to/a b:/path/to/b'\n",
    "    # split --data-test: 'a%10:/path/to/a/*'\n",
    "    file_dict = {}\n",
    "    split_dict = {}\n",
    "    print(data_test)\n",
    "    for f in data_test:\n",
    "        if ':' in f:\n",
    "            name, fp = f.split(':')\n",
    "            if '%' in name:\n",
    "                name, split = name.split('%')\n",
    "                split_dict[name] = int(split)\n",
    "        else:\n",
    "            name, fp = '', f\n",
    "        files = glob.glob(fp)\n",
    "        print(fp)\n",
    "        print(files)\n",
    "        if name in file_dict:\n",
    "            file_dict[name] += files\n",
    "        else:\n",
    "            file_dict[name] = files\n",
    "    print(file_dict)\n",
    "\n",
    "    # sort files\n",
    "    for name, files in file_dict.items():\n",
    "        file_dict[name] = sorted(files)\n",
    "    print(file_dict)\n",
    "\n",
    "    # apply splitting\n",
    "    for name, split in split_dict.items():\n",
    "        files = file_dict.pop(name)\n",
    "        for i in range((len(files) + split - 1) // split):\n",
    "            file_dict[f'{name}_{i}'] = files[i * split:(i + 1) * split]\n",
    "    print(file_dict)\n",
    "\n",
    "    def get_test_loader(name):\n",
    "        filelist = file_dict[name]\n",
    "        _logger.info('Running on test file group %s with %d files:\\n...%s', name, len(filelist), '\\n...'.join(filelist))\n",
    "        num_workers = min(3, len(filelist))\n",
    "        test_data = SimpleIterDataset(filelist, data_conf, for_training=False,\n",
    "                                      load_range_and_fraction=((0, 1), 1),\n",
    "                                      fetch_by_files=True, fetch_step=1)\n",
    "        test_loader = DataLoader(test_data, num_workers=num_workers, batch_size=1024, drop_last=False,\n",
    "                                 pin_memory=True)\n",
    "        return test_loader\n",
    "\n",
    "    test_loaders = {name: functools.partial(get_test_loader, name) for name in file_dict}\n",
    "    data_config = SimpleIterDataset([], data_conf, for_training=False).config\n",
    "    return test_loaders, data_config"
   ]
  },
  {
   "cell_type": "code",
   "execution_count": 52,
   "id": "37389847-f1f1-4eaf-acd6-8c5d13b8e814",
   "metadata": {},
   "outputs": [
    {
     "name": "stdout",
     "output_type": "stream",
     "text": [
      "['/lhome/ific/f/fkellere/GNN_datasets/PN_RealData/prep/next_*.root']\n",
      "/lhome/ific/f/fkellere/GNN_datasets/PN_RealData/prep/next_*.root\n",
      "['/lhome/ific/f/fkellere/GNN_datasets/PN_RealData/prep/next_train_0.root', '/lhome/ific/f/fkellere/GNN_datasets/PN_RealData/prep/next_train_1.root', '/lhome/ific/f/fkellere/GNN_datasets/PN_RealData/prep/next_train_2.root']\n",
      "{'': ['/lhome/ific/f/fkellere/GNN_datasets/PN_RealData/prep/next_train_0.root', '/lhome/ific/f/fkellere/GNN_datasets/PN_RealData/prep/next_train_1.root', '/lhome/ific/f/fkellere/GNN_datasets/PN_RealData/prep/next_train_2.root']}\n",
      "{'': ['/lhome/ific/f/fkellere/GNN_datasets/PN_RealData/prep/next_train_0.root', '/lhome/ific/f/fkellere/GNN_datasets/PN_RealData/prep/next_train_1.root', '/lhome/ific/f/fkellere/GNN_datasets/PN_RealData/prep/next_train_2.root']}\n",
      "{'': ['/lhome/ific/f/fkellere/GNN_datasets/PN_RealData/prep/next_train_0.root', '/lhome/ific/f/fkellere/GNN_datasets/PN_RealData/prep/next_train_1.root', '/lhome/ific/f/fkellere/GNN_datasets/PN_RealData/prep/next_train_2.root']}\n"
     ]
    }
   ],
   "source": [
    "a,b=test_load(['/lhome/ific/f/fkellere/GNN_datasets/PN_RealData/prep/next_*.root'],'/lhome/ific/f/fkellere/NEXT_Features.yaml')\n"
   ]
  },
  {
   "cell_type": "code",
   "execution_count": 25,
   "id": "d346afea-14b0-428d-b118-f49dbc352941",
   "metadata": {},
   "outputs": [
    {
     "data": {
      "text/plain": [
       "dict_items([('', functools.partial(<function test_load.<locals>.get_test_loader at 0x7fcdbe6f0820>, ''))])"
      ]
     },
     "execution_count": 25,
     "metadata": {},
     "output_type": "execute_result"
    }
   ],
   "source": [
    "a.items()"
   ]
  },
  {
   "cell_type": "code",
   "execution_count": 53,
   "id": "7989cbce-3684-4df9-84b7-21bed99012fa",
   "metadata": {},
   "outputs": [],
   "source": [
    "for name, get_test_loader in a.items():\n",
    "    test_loader = get_test_loader()"
   ]
  },
  {
   "cell_type": "code",
   "execution_count": 61,
   "id": "fde38913-714a-4953-a33a-913b07f160a8",
   "metadata": {},
   "outputs": [
    {
     "data": {
      "text/plain": [
       "<torch_geometric.loader.dataloader.DataLoader at 0x7fcdbcfdee20>"
      ]
     },
     "execution_count": 61,
     "metadata": {},
     "output_type": "execute_result"
    }
   ],
   "source": [
    "test_loader"
   ]
  },
  {
   "cell_type": "code",
   "execution_count": 63,
   "id": "892decc5-e9f5-4ea6-a906-a52b68c890e3",
   "metadata": {},
   "outputs": [
    {
     "data": {
      "text/plain": [
       "2"
      ]
     },
     "execution_count": 63,
     "metadata": {},
     "output_type": "execute_result"
    }
   ],
   "source": [
    "np.sum([1,1])"
   ]
  },
  {
   "cell_type": "code",
   "execution_count": 114,
   "id": "a3013d18-015b-4836-9929-2e345c2fbe2b",
   "metadata": {},
   "outputs": [
    {
     "name": "stdout",
     "output_type": "stream",
     "text": [
      "[2023-12-08 14:24:12,161] INFO: args:\n",
      " - ('regression_mode', False)\n",
      " - ('data_config', '/lhome/ific/f/fkellere/NEXT_Features.yaml')\n",
      " - ('data_train', ['/lhome/ific/f/fkellere/GNN_datasets/PN_Test/prep/next_train_*.root'])\n",
      " - ('data_val', ['/lhome/ific/f/fkellere/GNN_datasets/PN_Test/prep/next_val_*.root'])\n",
      " - ('data_test', [])\n",
      " - ('data_fraction', 1)\n",
      " - ('file_fraction', 1)\n",
      " - ('fetch_by_files', True)\n",
      " - ('fetch_step', 1.0)\n",
      " - ('in_memory', False)\n",
      " - ('train_val_split', 0.8)\n",
      " - ('demo', False)\n",
      " - ('lr_finder', None)\n",
      " - ('tensorboard', None)\n",
      " - ('tensorboard_custom_fn', None)\n",
      " - ('network_config', 'top_tagging/networks/particlenet_pf.py')\n",
      " - ('network_option', [])\n",
      " - ('model_prefix', 'output/particlenet')\n",
      " - ('num_epochs', 100)\n",
      " - ('steps_per_epoch', None)\n",
      " - ('steps_per_epoch_val', None)\n",
      " - ('optimizer', 'ranger')\n",
      " - ('optimizer_option', [])\n",
      " - ('lr_scheduler', 'flat+decay')\n",
      " - ('load_epoch', None)\n",
      " - ('start_lr', 0.005)\n",
      " - ('batch_size', 32)\n",
      " - ('use_amp', False)\n",
      " - ('gpus', '0')\n",
      " - ('num_workers', 1)\n",
      " - ('predict', False)\n",
      " - ('predict_output', None)\n",
      " - ('export_onnx', None)\n",
      " - ('io_test', False)\n",
      " - ('copy_inputs', False)\n",
      " - ('log', 'output/particlenet.train.log')\n",
      " - ('print', False)\n",
      " - ('profile', False)\n",
      "[2023-12-08 14:24:12,177] INFO: Running in classification mode\n",
      "[2023-12-08 14:24:12,904] INFO: Using 1 files for training, range: (0, 1)\n",
      "[2023-12-08 14:24:12,904] INFO: Using 0 files for validation, range: (0, 1)\n",
      "[2023-12-08 14:24:12,910] INFO: preprocess config: {'method': 'manual', 'data_fraction': None, 'params': None}\n",
      "[2023-12-08 14:24:12,910] INFO: selection: None\n",
      "[2023-12-08 14:24:12,910] INFO: test_time_selection: None\n",
      "[2023-12-08 14:24:12,911] INFO: var_funcs:\n",
      " - ('pf_mask', 'awkward.JaggedArray.ones_like(Part_E)')\n",
      " - ('is_bkg', 'np.logical_not(is_signal)')\n",
      " - ('_label_', 'np.stack([is_signal,is_bkg], axis=1).argmax(1)')\n",
      "[2023-12-08 14:24:12,911] INFO: input_names: ('pf_points', 'pf_features', 'pf_mask')\n",
      "[2023-12-08 14:24:12,911] INFO: input_dicts:\n",
      " - ('pf_points', ['Part_Xbin', 'Part_Ybin', 'Part_Zbin'])\n",
      " - ('pf_features', ['Part_E', 'Part_Xbin', 'Part_Ybin', 'Part_Zbin'])\n",
      " - ('pf_mask', ['pf_mask'])\n",
      "[2023-12-08 14:24:12,911] INFO: input_shapes:\n",
      " - ('pf_points', (-1, 3, 150))\n",
      " - ('pf_features', (-1, 4, 150))\n",
      " - ('pf_mask', (-1, 1, 150))\n",
      "[2023-12-08 14:24:12,911] INFO: preprocess_params:\n",
      " - ('Part_Xbin', {'length': 150, 'pad_mode': 'constant', 'center': None, 'scale': 1, 'min': -5, 'max': 5, 'pad_value': 0})\n",
      " - ('Part_Ybin', {'length': 150, 'pad_mode': 'constant', 'center': None, 'scale': 1, 'min': -5, 'max': 5, 'pad_value': 0})\n",
      " - ('Part_Zbin', {'length': 150, 'pad_mode': 'constant', 'center': None, 'scale': 1, 'min': -5, 'max': 5, 'pad_value': 0})\n",
      " - ('Part_E', {'length': 150, 'pad_mode': 'constant', 'center': None, 'scale': 1, 'min': -5, 'max': 5, 'pad_value': 0})\n",
      " - ('pf_mask', {'length': 150, 'pad_mode': 'constant', 'center': None, 'scale': 1, 'min': -5, 'max': 5, 'pad_value': 0})\n",
      "[2023-12-08 14:24:12,911] INFO: label_names: ('_label_',)\n",
      "[2023-12-08 14:24:12,911] INFO: observer_names: ('E_tot',)\n",
      "[2023-12-08 14:24:12,911] INFO: monitor_variables: ()\n",
      "[2023-12-08 14:24:12,916] INFO: preprocess config: {'method': 'manual', 'data_fraction': None, 'params': None}\n",
      "[2023-12-08 14:24:12,916] INFO: selection: None\n",
      "[2023-12-08 14:24:12,916] INFO: test_time_selection: None\n",
      "[2023-12-08 14:24:12,916] INFO: var_funcs:\n",
      " - ('pf_mask', 'awkward.JaggedArray.ones_like(Part_E)')\n",
      " - ('is_bkg', 'np.logical_not(is_signal)')\n",
      " - ('_label_', 'np.stack([is_signal,is_bkg], axis=1).argmax(1)')\n",
      "[2023-12-08 14:24:12,916] INFO: input_names: ('pf_points', 'pf_features', 'pf_mask')\n",
      "[2023-12-08 14:24:12,916] INFO: input_dicts:\n",
      " - ('pf_points', ['Part_Xbin', 'Part_Ybin', 'Part_Zbin'])\n",
      " - ('pf_features', ['Part_E', 'Part_Xbin', 'Part_Ybin', 'Part_Zbin'])\n",
      " - ('pf_mask', ['pf_mask'])\n",
      "[2023-12-08 14:24:12,916] INFO: input_shapes:\n",
      " - ('pf_points', (-1, 3, 150))\n",
      " - ('pf_features', (-1, 4, 150))\n",
      " - ('pf_mask', (-1, 1, 150))\n",
      "[2023-12-08 14:24:12,916] INFO: preprocess_params:\n",
      " - ('Part_Xbin', {'length': 150, 'pad_mode': 'constant', 'center': None, 'scale': 1, 'min': -5, 'max': 5, 'pad_value': 0})\n",
      " - ('Part_Ybin', {'length': 150, 'pad_mode': 'constant', 'center': None, 'scale': 1, 'min': -5, 'max': 5, 'pad_value': 0})\n",
      " - ('Part_Zbin', {'length': 150, 'pad_mode': 'constant', 'center': None, 'scale': 1, 'min': -5, 'max': 5, 'pad_value': 0})\n",
      " - ('Part_E', {'length': 150, 'pad_mode': 'constant', 'center': None, 'scale': 1, 'min': -5, 'max': 5, 'pad_value': 0})\n",
      " - ('pf_mask', {'length': 150, 'pad_mode': 'constant', 'center': None, 'scale': 1, 'min': -5, 'max': 5, 'pad_value': 0})\n",
      "[2023-12-08 14:24:12,916] INFO: label_names: ('_label_',)\n",
      "[2023-12-08 14:24:12,916] INFO: observer_names: ()\n",
      "[2023-12-08 14:24:12,916] INFO: monitor_variables: ()\n",
      "[2023-12-08 14:24:12,922] INFO: preprocess config: {'method': 'manual', 'data_fraction': None, 'params': None}\n",
      "[2023-12-08 14:24:12,922] INFO: selection: None\n",
      "[2023-12-08 14:24:12,922] INFO: test_time_selection: None\n",
      "[2023-12-08 14:24:12,922] INFO: var_funcs:\n",
      " - ('pf_mask', 'awkward.JaggedArray.ones_like(Part_E)')\n",
      " - ('is_bkg', 'np.logical_not(is_signal)')\n",
      " - ('_label_', 'np.stack([is_signal,is_bkg], axis=1).argmax(1)')\n",
      "[2023-12-08 14:24:12,922] INFO: input_names: ('pf_points', 'pf_features', 'pf_mask')\n",
      "[2023-12-08 14:24:12,922] INFO: input_dicts:\n",
      " - ('pf_points', ['Part_Xbin', 'Part_Ybin', 'Part_Zbin'])\n",
      " - ('pf_features', ['Part_E', 'Part_Xbin', 'Part_Ybin', 'Part_Zbin'])\n",
      " - ('pf_mask', ['pf_mask'])\n",
      "[2023-12-08 14:24:12,922] INFO: input_shapes:\n",
      " - ('pf_points', (-1, 3, 150))\n",
      " - ('pf_features', (-1, 4, 150))\n",
      " - ('pf_mask', (-1, 1, 150))\n",
      "[2023-12-08 14:24:12,923] INFO: preprocess_params:\n",
      " - ('Part_Xbin', {'length': 150, 'pad_mode': 'constant', 'center': None, 'scale': 1, 'min': -5, 'max': 5, 'pad_value': 0})\n",
      " - ('Part_Ybin', {'length': 150, 'pad_mode': 'constant', 'center': None, 'scale': 1, 'min': -5, 'max': 5, 'pad_value': 0})\n",
      " - ('Part_Zbin', {'length': 150, 'pad_mode': 'constant', 'center': None, 'scale': 1, 'min': -5, 'max': 5, 'pad_value': 0})\n",
      " - ('Part_E', {'length': 150, 'pad_mode': 'constant', 'center': None, 'scale': 1, 'min': -5, 'max': 5, 'pad_value': 0})\n",
      " - ('pf_mask', {'length': 150, 'pad_mode': 'constant', 'center': None, 'scale': 1, 'min': -5, 'max': 5, 'pad_value': 0})\n",
      "[2023-12-08 14:24:12,923] INFO: label_names: ('_label_',)\n",
      "[2023-12-08 14:24:12,923] INFO: observer_names: ('E_tot',)\n",
      "[2023-12-08 14:24:12,923] INFO: monitor_variables: ()\n",
      "[2023-12-08 14:24:12,927] INFO: preprocess config: {'method': 'manual', 'data_fraction': None, 'params': None}\n",
      "[2023-12-08 14:24:12,928] INFO: selection: None\n",
      "[2023-12-08 14:24:12,928] INFO: test_time_selection: None\n",
      "[2023-12-08 14:24:12,928] INFO: var_funcs:\n",
      " - ('pf_mask', 'awkward.JaggedArray.ones_like(Part_E)')\n",
      " - ('is_bkg', 'np.logical_not(is_signal)')\n",
      " - ('_label_', 'np.stack([is_signal,is_bkg], axis=1).argmax(1)')\n",
      "[2023-12-08 14:24:12,928] INFO: input_names: ('pf_points', 'pf_features', 'pf_mask')\n",
      "[2023-12-08 14:24:12,928] INFO: input_dicts:\n",
      " - ('pf_points', ['Part_Xbin', 'Part_Ybin', 'Part_Zbin'])\n",
      " - ('pf_features', ['Part_E', 'Part_Xbin', 'Part_Ybin', 'Part_Zbin'])\n",
      " - ('pf_mask', ['pf_mask'])\n",
      "[2023-12-08 14:24:12,928] INFO: input_shapes:\n",
      " - ('pf_points', (-1, 3, 150))\n",
      " - ('pf_features', (-1, 4, 150))\n",
      " - ('pf_mask', (-1, 1, 150))\n",
      "[2023-12-08 14:24:12,928] INFO: preprocess_params:\n",
      " - ('Part_Xbin', {'length': 150, 'pad_mode': 'constant', 'center': None, 'scale': 1, 'min': -5, 'max': 5, 'pad_value': 0})\n",
      " - ('Part_Ybin', {'length': 150, 'pad_mode': 'constant', 'center': None, 'scale': 1, 'min': -5, 'max': 5, 'pad_value': 0})\n",
      " - ('Part_Zbin', {'length': 150, 'pad_mode': 'constant', 'center': None, 'scale': 1, 'min': -5, 'max': 5, 'pad_value': 0})\n",
      " - ('Part_E', {'length': 150, 'pad_mode': 'constant', 'center': None, 'scale': 1, 'min': -5, 'max': 5, 'pad_value': 0})\n",
      " - ('pf_mask', {'length': 150, 'pad_mode': 'constant', 'center': None, 'scale': 1, 'min': -5, 'max': 5, 'pad_value': 0})\n",
      "[2023-12-08 14:24:12,928] INFO: label_names: ('_label_',)\n",
      "[2023-12-08 14:24:12,928] INFO: observer_names: ()\n",
      "[2023-12-08 14:24:12,928] INFO: monitor_variables: ()\n",
      "[2023-12-08 14:24:12,934] INFO: Network options: {}\n",
      "[2023-12-08 14:24:12,966] INFO: Warning: module FeatureConv is treated as a zero-op.\n",
      "[2023-12-08 14:24:12,966] INFO: Warning: module EdgeConvBlock is treated as a zero-op.\n",
      "[2023-12-08 14:24:12,967] INFO: Warning: module Dropout is treated as a zero-op.\n",
      "[2023-12-08 14:24:12,967] INFO: Warning: module ParticleNet is treated as a zero-op.\n",
      "[2023-12-08 14:24:12,967] INFO: Warning: module ParticleNetTagger1Path is treated as a zero-op.\n",
      "[2023-12-08 14:24:13,019] INFO: ParticleNetTagger1Path(\n",
      "  |0.577 M, 100.000% Params, 0.662 GMac, 100.000% MACs|\n",
      "  (pf_conv): FeatureConv(\n",
      "    |0.0 M, 0.035% Params, 0.0 GMac, 0.005% MACs|\n",
      "    (conv): Sequential(\n",
      "      |0.0 M, 0.035% Params, 0.0 GMac, 0.005% MACs|\n",
      "      (0): BatchNorm1d(4, eps=1e-05, momentum=0.1, affine=True, track_running_stats=True, |0.0 M, 0.001% Params, 0.0 GMac, 0.000% MACs|)\n",
      "      (1): Conv1d(4, 32, kernel_size=(1,), stride=(1,), bias=False, |0.0 M, 0.022% Params, 0.0 GMac, 0.003% MACs|)\n",
      "      (2): BatchNorm1d(32, eps=1e-05, momentum=0.1, affine=True, track_running_stats=True, |0.0 M, 0.011% Params, 0.0 GMac, 0.001% MACs|)\n",
      "      (3): ReLU(|0.0 M, 0.000% Params, 0.0 GMac, 0.001% MACs|)\n",
      "    )\n",
      "  )\n",
      "  (pn): ParticleNet(\n",
      "    |0.577 M, 99.965% Params, 0.662 GMac, 99.995% MACs|\n",
      "    (edge_convs): ModuleList(\n",
      "      |0.305 M, 52.823% Params, 0.636 GMac, 96.054% MACs|\n",
      "      (0): EdgeConvBlock(\n",
      "        |0.015 M, 2.575% Params, 0.031 GMac, 4.716% MACs|\n",
      "        (convs): ModuleList(\n",
      "          |0.012 M, 2.131% Params, 0.029 GMac, 4.457% MACs|\n",
      "          (0): Conv2d(64, 64, kernel_size=(1, 1), stride=(1, 1), bias=False, |0.004 M, 0.710% Params, 0.01 GMac, 1.486% MACs|)\n",
      "          (1): Conv2d(64, 64, kernel_size=(1, 1), stride=(1, 1), bias=False, |0.004 M, 0.710% Params, 0.01 GMac, 1.486% MACs|)\n",
      "          (2): Conv2d(64, 64, kernel_size=(1, 1), stride=(1, 1), bias=False, |0.004 M, 0.710% Params, 0.01 GMac, 1.486% MACs|)\n",
      "        )\n",
      "        (bns): ModuleList(\n",
      "          |0.0 M, 0.067% Params, 0.001 GMac, 0.139% MACs|\n",
      "          (0): BatchNorm2d(64, eps=1e-05, momentum=0.1, affine=True, track_running_stats=True, |0.0 M, 0.022% Params, 0.0 GMac, 0.046% MACs|)\n",
      "          (1): BatchNorm2d(64, eps=1e-05, momentum=0.1, affine=True, track_running_stats=True, |0.0 M, 0.022% Params, 0.0 GMac, 0.046% MACs|)\n",
      "          (2): BatchNorm2d(64, eps=1e-05, momentum=0.1, affine=True, track_running_stats=True, |0.0 M, 0.022% Params, 0.0 GMac, 0.046% MACs|)\n",
      "        )\n",
      "        (acts): ModuleList(\n",
      "          |0.0 M, 0.000% Params, 0.0 GMac, 0.070% MACs|\n",
      "          (0): ReLU(|0.0 M, 0.000% Params, 0.0 GMac, 0.023% MACs|)\n",
      "          (1): ReLU(|0.0 M, 0.000% Params, 0.0 GMac, 0.023% MACs|)\n",
      "          (2): ReLU(|0.0 M, 0.000% Params, 0.0 GMac, 0.023% MACs|)\n",
      "        )\n",
      "        (sc): Conv1d(32, 64, kernel_size=(1,), stride=(1,), bias=False, |0.002 M, 0.355% Params, 0.0 GMac, 0.046% MACs|)\n",
      "        (sc_bn): BatchNorm1d(64, eps=1e-05, momentum=0.1, affine=True, track_running_stats=True, |0.0 M, 0.022% Params, 0.0 GMac, 0.003% MACs|)\n",
      "        (sc_act): ReLU(|0.0 M, 0.000% Params, 0.0 GMac, 0.001% MACs|)\n",
      "      )\n",
      "      (1): EdgeConvBlock(\n",
      "        |0.058 M, 10.121% Params, 0.122 GMac, 18.438% MACs|\n",
      "        (convs): ModuleList(\n",
      "          |0.049 M, 8.523% Params, 0.118 GMac, 17.826% MACs|\n",
      "          (0): Conv2d(128, 128, kernel_size=(1, 1), stride=(1, 1), bias=False, |0.016 M, 2.841% Params, 0.039 GMac, 5.942% MACs|)\n",
      "          (1): Conv2d(128, 128, kernel_size=(1, 1), stride=(1, 1), bias=False, |0.016 M, 2.841% Params, 0.039 GMac, 5.942% MACs|)\n",
      "          (2): Conv2d(128, 128, kernel_size=(1, 1), stride=(1, 1), bias=False, |0.016 M, 2.841% Params, 0.039 GMac, 5.942% MACs|)\n",
      "        )\n",
      "        (bns): ModuleList(\n",
      "          |0.001 M, 0.133% Params, 0.002 GMac, 0.279% MACs|\n",
      "          (0): BatchNorm2d(128, eps=1e-05, momentum=0.1, affine=True, track_running_stats=True, |0.0 M, 0.044% Params, 0.001 GMac, 0.093% MACs|)\n",
      "          (1): BatchNorm2d(128, eps=1e-05, momentum=0.1, affine=True, track_running_stats=True, |0.0 M, 0.044% Params, 0.001 GMac, 0.093% MACs|)\n",
      "          (2): BatchNorm2d(128, eps=1e-05, momentum=0.1, affine=True, track_running_stats=True, |0.0 M, 0.044% Params, 0.001 GMac, 0.093% MACs|)\n",
      "        )\n",
      "        (acts): ModuleList(\n",
      "          |0.0 M, 0.000% Params, 0.001 GMac, 0.139% MACs|\n",
      "          (0): ReLU(|0.0 M, 0.000% Params, 0.0 GMac, 0.046% MACs|)\n",
      "          (1): ReLU(|0.0 M, 0.000% Params, 0.0 GMac, 0.046% MACs|)\n",
      "          (2): ReLU(|0.0 M, 0.000% Params, 0.0 GMac, 0.046% MACs|)\n",
      "        )\n",
      "        (sc): Conv1d(64, 128, kernel_size=(1,), stride=(1,), bias=False, |0.008 M, 1.420% Params, 0.001 GMac, 0.186% MACs|)\n",
      "        (sc_bn): BatchNorm1d(128, eps=1e-05, momentum=0.1, affine=True, track_running_stats=True, |0.0 M, 0.044% Params, 0.0 GMac, 0.006% MACs|)\n",
      "        (sc_act): ReLU(|0.0 M, 0.000% Params, 0.0 GMac, 0.003% MACs|)\n",
      "      )\n",
      "      (2): EdgeConvBlock(\n",
      "        |0.231 M, 40.128% Params, 0.482 GMac, 72.900% MACs|\n",
      "        (convs): ModuleList(\n",
      "          |0.197 M, 34.091% Params, 0.472 GMac, 71.304% MACs|\n",
      "          (0): Conv2d(256, 256, kernel_size=(1, 1), stride=(1, 1), bias=False, |0.066 M, 11.364% Params, 0.157 GMac, 23.768% MACs|)\n",
      "          (1): Conv2d(256, 256, kernel_size=(1, 1), stride=(1, 1), bias=False, |0.066 M, 11.364% Params, 0.157 GMac, 23.768% MACs|)\n",
      "          (2): Conv2d(256, 256, kernel_size=(1, 1), stride=(1, 1), bias=False, |0.066 M, 11.364% Params, 0.157 GMac, 23.768% MACs|)\n",
      "        )\n",
      "        (bns): ModuleList(\n",
      "          |0.002 M, 0.266% Params, 0.004 GMac, 0.557% MACs|\n",
      "          (0): BatchNorm2d(256, eps=1e-05, momentum=0.1, affine=True, track_running_stats=True, |0.001 M, 0.089% Params, 0.001 GMac, 0.186% MACs|)\n",
      "          (1): BatchNorm2d(256, eps=1e-05, momentum=0.1, affine=True, track_running_stats=True, |0.001 M, 0.089% Params, 0.001 GMac, 0.186% MACs|)\n",
      "          (2): BatchNorm2d(256, eps=1e-05, momentum=0.1, affine=True, track_running_stats=True, |0.001 M, 0.089% Params, 0.001 GMac, 0.186% MACs|)\n",
      "        )\n",
      "        (acts): ModuleList(\n",
      "          |0.0 M, 0.000% Params, 0.002 GMac, 0.279% MACs|\n",
      "          (0): ReLU(|0.0 M, 0.000% Params, 0.001 GMac, 0.093% MACs|)\n",
      "          (1): ReLU(|0.0 M, 0.000% Params, 0.001 GMac, 0.093% MACs|)\n",
      "          (2): ReLU(|0.0 M, 0.000% Params, 0.001 GMac, 0.093% MACs|)\n",
      "        )\n",
      "        (sc): Conv1d(128, 256, kernel_size=(1,), stride=(1,), bias=False, |0.033 M, 5.682% Params, 0.005 GMac, 0.743% MACs|)\n",
      "        (sc_bn): BatchNorm1d(256, eps=1e-05, momentum=0.1, affine=True, track_running_stats=True, |0.001 M, 0.089% Params, 0.0 GMac, 0.012% MACs|)\n",
      "        (sc_act): ReLU(|0.0 M, 0.000% Params, 0.0 GMac, 0.006% MACs|)\n",
      "      )\n",
      "    )\n",
      "    (fusion_block): Sequential(\n",
      "      |0.173 M, 29.963% Params, 0.026 GMac, 3.926% MACs|\n",
      "      (0): Conv1d(448, 384, kernel_size=(1,), stride=(1,), bias=False, |0.172 M, 29.830% Params, 0.026 GMac, 3.899% MACs|)\n",
      "      (1): BatchNorm1d(384, eps=1e-05, momentum=0.1, affine=True, track_running_stats=True, |0.001 M, 0.133% Params, 0.0 GMac, 0.017% MACs|)\n",
      "      (2): ReLU(|0.0 M, 0.000% Params, 0.0 GMac, 0.009% MACs|)\n",
      "    )\n",
      "    (fc): Sequential(\n",
      "      |0.099 M, 17.179% Params, 0.0 GMac, 0.015% MACs|\n",
      "      (0): Sequential(\n",
      "        |0.099 M, 17.090% Params, 0.0 GMac, 0.015% MACs|\n",
      "        (0): Linear(in_features=384, out_features=256, bias=True, |0.099 M, 17.090% Params, 0.0 GMac, 0.015% MACs|)\n",
      "        (1): ReLU(|0.0 M, 0.000% Params, 0.0 GMac, 0.000% MACs|)\n",
      "        (2): Dropout(p=0.1, inplace=False, |0.0 M, 0.000% Params, 0.0 GMac, 0.000% MACs|)\n",
      "      )\n",
      "      (1): Linear(in_features=256, out_features=2, bias=True, |0.001 M, 0.089% Params, 0.0 GMac, 0.000% MACs|)\n",
      "    )\n",
      "  )\n",
      ")\n",
      "[2023-12-08 14:24:13,025] INFO: Computational complexity:       0.66 GMac\n",
      "[2023-12-08 14:24:13,025] INFO: Number of parameters:           576.71 k\n"
     ]
    },
    {
     "name": "stderr",
     "output_type": "stream",
     "text": [
      "Traceback (most recent call last):\n",
      "  File \"train.py\", line 705, in <module>\n",
      "    main(args)\n",
      "  File \"train.py\", line 570, in main\n",
      "    model = orig_model.to(dev)\n",
      "  File \"/lhome/ific/f/fkellere/miniconda/envs/IC-3.8-2022-04-13/lib/python3.8/site-packages/torch/nn/modules/module.py\", line 927, in to\n",
      "    return self._apply(convert)\n",
      "  File \"/lhome/ific/f/fkellere/miniconda/envs/IC-3.8-2022-04-13/lib/python3.8/site-packages/torch/nn/modules/module.py\", line 579, in _apply\n",
      "    module._apply(fn)\n",
      "  File \"/lhome/ific/f/fkellere/miniconda/envs/IC-3.8-2022-04-13/lib/python3.8/site-packages/torch/nn/modules/module.py\", line 579, in _apply\n",
      "    module._apply(fn)\n",
      "  File \"/lhome/ific/f/fkellere/miniconda/envs/IC-3.8-2022-04-13/lib/python3.8/site-packages/torch/nn/modules/module.py\", line 579, in _apply\n",
      "    module._apply(fn)\n",
      "  File \"/lhome/ific/f/fkellere/miniconda/envs/IC-3.8-2022-04-13/lib/python3.8/site-packages/torch/nn/modules/module.py\", line 602, in _apply\n",
      "    param_applied = fn(param)\n",
      "  File \"/lhome/ific/f/fkellere/miniconda/envs/IC-3.8-2022-04-13/lib/python3.8/site-packages/torch/nn/modules/module.py\", line 925, in convert\n",
      "    return t.to(device, dtype if t.is_floating_point() or t.is_complex() else None, non_blocking)\n",
      "RuntimeError: CUDA error: all CUDA-capable devices are busy or unavailable\n",
      "CUDA kernel errors might be asynchronously reported at some other API call,so the stacktrace below might be incorrect.\n",
      "For debugging consider passing CUDA_LAUNCH_BLOCKING=1.\n"
     ]
    },
    {
     "ename": "CalledProcessError",
     "evalue": "Command 'b\"dataset='PN_Test'\\npython train.py  --data-train /lhome/ific/f/fkellere/GNN_datasets/$dataset'/prep/next_train_*.root'  --data-val /lhome/ific/f/fkellere/GNN_datasets/$dataset'/prep/next_val_*.root'  --fetch-by-file --fetch-step 1 --num-workers 1  --data-config /lhome/ific/f/fkellere/NEXT_Features.yaml  --network-config top_tagging/networks/particlenet_pf.py  --model-prefix output/particlenet  --gpus 0 --batch-size 32 --start-lr 5e-3 --num-epochs 100 --optimizer ranger  --log output/particlenet.train.log\\n\"' returned non-zero exit status 1.",
     "output_type": "error",
     "traceback": [
      "\u001b[0;31m---------------------------------------------------------------------------\u001b[0m",
      "\u001b[0;31mCalledProcessError\u001b[0m                        Traceback (most recent call last)",
      "Cell \u001b[0;32mIn[114], line 1\u001b[0m\n\u001b[0;32m----> 1\u001b[0m \u001b[43mget_ipython\u001b[49m\u001b[43m(\u001b[49m\u001b[43m)\u001b[49m\u001b[38;5;241;43m.\u001b[39;49m\u001b[43mrun_cell_magic\u001b[49m\u001b[43m(\u001b[49m\u001b[38;5;124;43m'\u001b[39;49m\u001b[38;5;124;43mbash\u001b[39;49m\u001b[38;5;124;43m'\u001b[39;49m\u001b[43m,\u001b[49m\u001b[43m \u001b[49m\u001b[38;5;124;43m'\u001b[39;49m\u001b[38;5;124;43m'\u001b[39;49m\u001b[43m,\u001b[49m\u001b[43m \u001b[49m\u001b[38;5;124;43m\"\u001b[39;49m\u001b[38;5;124;43mdataset=\u001b[39;49m\u001b[38;5;124;43m'\u001b[39;49m\u001b[38;5;124;43mPN_Test\u001b[39;49m\u001b[38;5;124;43m'\u001b[39;49m\u001b[38;5;130;43;01m\\n\u001b[39;49;00m\u001b[38;5;124;43mpython train.py  --data-train /lhome/ific/f/fkellere/GNN_datasets/$dataset\u001b[39;49m\u001b[38;5;124;43m'\u001b[39;49m\u001b[38;5;124;43m/prep/next_train_*.root\u001b[39;49m\u001b[38;5;124;43m'\u001b[39;49m\u001b[38;5;124;43m  --data-val /lhome/ific/f/fkellere/GNN_datasets/$dataset\u001b[39;49m\u001b[38;5;124;43m'\u001b[39;49m\u001b[38;5;124;43m/prep/next_val_*.root\u001b[39;49m\u001b[38;5;124;43m'\u001b[39;49m\u001b[38;5;124;43m  --fetch-by-file --fetch-step 1 --num-workers 1  --data-config /lhome/ific/f/fkellere/NEXT_Features.yaml  --network-config top_tagging/networks/particlenet_pf.py  --model-prefix output/particlenet  --gpus 0 --batch-size 32 --start-lr 5e-3 --num-epochs 100 --optimizer ranger  --log output/particlenet.train.log\u001b[39;49m\u001b[38;5;130;43;01m\\n\u001b[39;49;00m\u001b[38;5;124;43m\"\u001b[39;49m\u001b[43m)\u001b[49m\n",
      "File \u001b[0;32m~/miniconda/envs/IC-3.8-2022-04-13/lib/python3.8/site-packages/IPython/core/interactiveshell.py:2478\u001b[0m, in \u001b[0;36mInteractiveShell.run_cell_magic\u001b[0;34m(self, magic_name, line, cell)\u001b[0m\n\u001b[1;32m   2476\u001b[0m \u001b[38;5;28;01mwith\u001b[39;00m \u001b[38;5;28mself\u001b[39m\u001b[38;5;241m.\u001b[39mbuiltin_trap:\n\u001b[1;32m   2477\u001b[0m     args \u001b[38;5;241m=\u001b[39m (magic_arg_s, cell)\n\u001b[0;32m-> 2478\u001b[0m     result \u001b[38;5;241m=\u001b[39m \u001b[43mfn\u001b[49m\u001b[43m(\u001b[49m\u001b[38;5;241;43m*\u001b[39;49m\u001b[43margs\u001b[49m\u001b[43m,\u001b[49m\u001b[43m \u001b[49m\u001b[38;5;241;43m*\u001b[39;49m\u001b[38;5;241;43m*\u001b[39;49m\u001b[43mkwargs\u001b[49m\u001b[43m)\u001b[49m\n\u001b[1;32m   2480\u001b[0m \u001b[38;5;66;03m# The code below prevents the output from being displayed\u001b[39;00m\n\u001b[1;32m   2481\u001b[0m \u001b[38;5;66;03m# when using magics with decodator @output_can_be_silenced\u001b[39;00m\n\u001b[1;32m   2482\u001b[0m \u001b[38;5;66;03m# when the last Python token in the expression is a ';'.\u001b[39;00m\n\u001b[1;32m   2483\u001b[0m \u001b[38;5;28;01mif\u001b[39;00m \u001b[38;5;28mgetattr\u001b[39m(fn, magic\u001b[38;5;241m.\u001b[39mMAGIC_OUTPUT_CAN_BE_SILENCED, \u001b[38;5;28;01mFalse\u001b[39;00m):\n",
      "File \u001b[0;32m~/miniconda/envs/IC-3.8-2022-04-13/lib/python3.8/site-packages/IPython/core/magics/script.py:153\u001b[0m, in \u001b[0;36mScriptMagics._make_script_magic.<locals>.named_script_magic\u001b[0;34m(line, cell)\u001b[0m\n\u001b[1;32m    151\u001b[0m \u001b[38;5;28;01melse\u001b[39;00m:\n\u001b[1;32m    152\u001b[0m     line \u001b[38;5;241m=\u001b[39m script\n\u001b[0;32m--> 153\u001b[0m \u001b[38;5;28;01mreturn\u001b[39;00m \u001b[38;5;28;43mself\u001b[39;49m\u001b[38;5;241;43m.\u001b[39;49m\u001b[43mshebang\u001b[49m\u001b[43m(\u001b[49m\u001b[43mline\u001b[49m\u001b[43m,\u001b[49m\u001b[43m \u001b[49m\u001b[43mcell\u001b[49m\u001b[43m)\u001b[49m\n",
      "File \u001b[0;32m~/miniconda/envs/IC-3.8-2022-04-13/lib/python3.8/site-packages/IPython/core/magics/script.py:305\u001b[0m, in \u001b[0;36mScriptMagics.shebang\u001b[0;34m(self, line, cell)\u001b[0m\n\u001b[1;32m    300\u001b[0m \u001b[38;5;28;01mif\u001b[39;00m args\u001b[38;5;241m.\u001b[39mraise_error \u001b[38;5;129;01mand\u001b[39;00m p\u001b[38;5;241m.\u001b[39mreturncode \u001b[38;5;241m!=\u001b[39m \u001b[38;5;241m0\u001b[39m:\n\u001b[1;32m    301\u001b[0m     \u001b[38;5;66;03m# If we get here and p.returncode is still None, we must have\u001b[39;00m\n\u001b[1;32m    302\u001b[0m     \u001b[38;5;66;03m# killed it but not yet seen its return code. We don't wait for it,\u001b[39;00m\n\u001b[1;32m    303\u001b[0m     \u001b[38;5;66;03m# in case it's stuck in uninterruptible sleep. -9 = SIGKILL\u001b[39;00m\n\u001b[1;32m    304\u001b[0m     rc \u001b[38;5;241m=\u001b[39m p\u001b[38;5;241m.\u001b[39mreturncode \u001b[38;5;129;01mor\u001b[39;00m \u001b[38;5;241m-\u001b[39m\u001b[38;5;241m9\u001b[39m\n\u001b[0;32m--> 305\u001b[0m     \u001b[38;5;28;01mraise\u001b[39;00m CalledProcessError(rc, cell)\n",
      "\u001b[0;31mCalledProcessError\u001b[0m: Command 'b\"dataset='PN_Test'\\npython train.py  --data-train /lhome/ific/f/fkellere/GNN_datasets/$dataset'/prep/next_train_*.root'  --data-val /lhome/ific/f/fkellere/GNN_datasets/$dataset'/prep/next_val_*.root'  --fetch-by-file --fetch-step 1 --num-workers 1  --data-config /lhome/ific/f/fkellere/NEXT_Features.yaml  --network-config top_tagging/networks/particlenet_pf.py  --model-prefix output/particlenet  --gpus 0 --batch-size 32 --start-lr 5e-3 --num-epochs 100 --optimizer ranger  --log output/particlenet.train.log\\n\"' returned non-zero exit status 1."
     ]
    }
   ],
   "source": [
    "%%bash\n",
    "dataset='PN_Marija_10mm_SB50'\n",
    "python train.py  --data-train /lhome/ific/f/fkellere/GNN_datasets/$dataset'/prep/next_train_*.root'  --data-val /lhome/ific/f/fkellere/GNN_datasets/$dataset'/prep/next_val_*.root'  --fetch-by-file --fetch-step 1 --num-workers 1  --data-config /lhome/ific/f/fkellere/NEXT_Features.yaml  --network-config top_tagging/networks/particlenet_pf.py  --model-prefix output/particlenet  --gpus 0 --batch-size 32 --start-lr 5e-3 --num-epochs 100 --optimizer ranger  --log output/particlenet.train.log\n"
   ]
  },
  {
   "cell_type": "code",
   "execution_count": 73,
   "id": "1607db6c-3f20-49e1-89d9-816f7924388b",
   "metadata": {},
   "outputs": [
    {
     "data": {
      "text/plain": [
       "2.0"
      ]
     },
     "execution_count": 73,
     "metadata": {},
     "output_type": "execute_result"
    }
   ],
   "source": [
    "import math\n",
    "math.fsum([1,1])"
   ]
  },
  {
   "cell_type": "code",
   "execution_count": 96,
   "id": "b8d3fe73-2df3-4510-b782-ffc46b862c49",
   "metadata": {},
   "outputs": [],
   "source": [
    "tree = uproot.open('/lhome/ific/f/fkellere/GNN_datasets/PN_Marija_5mm_SB50/prep/next_test_0.root')['Events']\n",
    "## create a data-frame from all branches included in the TTree\n",
    "df = tree.arrays(tree.keys(),library='pd')"
   ]
  },
  {
   "cell_type": "code",
   "execution_count": 97,
   "id": "78c67f40-2941-42a5-a330-c14cfed62d80",
   "metadata": {},
   "outputs": [
    {
     "data": {
      "text/plain": [
       "85"
      ]
     },
     "execution_count": 97,
     "metadata": {},
     "output_type": "execute_result"
    }
   ],
   "source": [
    "max(df.nPart)"
   ]
  },
  {
   "cell_type": "code",
   "execution_count": 111,
   "id": "ef5c5cd1-a293-4cb9-b646-ef6801992137",
   "metadata": {},
   "outputs": [
    {
     "data": {
      "text/plain": [
       "1.0000000000000002"
      ]
     },
     "execution_count": 111,
     "metadata": {},
     "output_type": "execute_result"
    }
   ],
   "source": [
    "sum(df.Part_E[2])"
   ]
  },
  {
   "cell_type": "code",
   "execution_count": null,
   "id": "f993b45a-fe19-43f6-bfa5-b158ac8255b4",
   "metadata": {},
   "outputs": [],
   "source": []
  }
 ],
 "metadata": {
  "kernelspec": {
   "display_name": "Python 3 (ipykernel)",
   "language": "python",
   "name": "python3"
  },
  "language_info": {
   "codemirror_mode": {
    "name": "ipython",
    "version": 3
   },
   "file_extension": ".py",
   "mimetype": "text/x-python",
   "name": "python",
   "nbconvert_exporter": "python",
   "pygments_lexer": "ipython3",
   "version": "3.8.18"
  }
 },
 "nbformat": 4,
 "nbformat_minor": 5
}
