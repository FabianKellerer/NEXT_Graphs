{
 "cells": [
  {
   "cell_type": "code",
   "execution_count": 1,
   "id": "53cfffb5",
   "metadata": {},
   "outputs": [
    {
     "name": "stderr",
     "output_type": "stream",
     "text": [
      "/lhome/ific/f/fkellere/miniconda/envs/IC-3.8-2022-04-13/lib/python3.8/site-packages/scipy/__init__.py:146: UserWarning: A NumPy version >=1.16.5 and <1.23.0 is required for this version of SciPy (detected version 1.24.4\n",
      "  warnings.warn(f\"A NumPy version >={np_minversion} and <{np_maxversion}\"\n"
     ]
    }
   ],
   "source": [
    "import os\n",
    "import math\n",
    "import torch\n",
    "import pandas as pd\n",
    "import matplotlib.pyplot as plt\n",
    "import mplhep as hep\n",
    "import numpy as np\n",
    "import networkx as nx\n",
    "import GraphTransforms as Tr\n",
    "import torch_geometric.transforms as T\n",
    "import GraphNN as G\n",
    "import GraphDataSets as D\n",
    "import random\n",
    "\n",
    "from tqdm.notebook import tqdm\n",
    "from sklearn.metrics import roc_curve, auc\n",
    "from torch.utils.data import random_split\n",
    "from torch_geometric.loader import DataLoader\n",
    "from torch_geometric.utils import to_networkx\n",
    "from mpl_toolkits.axes_grid1 import make_axes_locatable"
   ]
  },
  {
   "cell_type": "code",
   "execution_count": 2,
   "id": "d9eda821-3d7e-4c24-86fe-055fa710dea3",
   "metadata": {},
   "outputs": [],
   "source": [
    "dataset_name = 'RecoBig_all_10mm_R2'\n",
    "transform    = True\n",
    "DS = getattr(D,dataset_name)"
   ]
  },
  {
   "cell_type": "code",
   "execution_count": 3,
   "id": "fbbec707-38e9-4312-b541-59ae780d7394",
   "metadata": {},
   "outputs": [],
   "source": [
    "if transform:\n",
    "    dataset = DS(root='./GNN_datasets/',transform=Tr.RandomNodeSplit())#, pre_transform=transform)\n",
    "    dataset_name += '_T'\n",
    "else:\n",
    "    dataset   = DS(root='GNN_datasets/')"
   ]
  },
  {
   "cell_type": "code",
   "execution_count": 4,
   "id": "02f66064-fb1c-445a-9a69-40124d2d2ea3",
   "metadata": {},
   "outputs": [
    {
     "name": "stdout",
     "output_type": "stream",
     "text": [
      "mkdir: cannot create directory ‘IN_RecoBig_all_10mm_R2_T’: File exists\n"
     ]
    }
   ],
   "source": [
    "%mkdir 'IN_{dataset_name}'\n",
    "train_dataset = dataset[:int(1/2*len(dataset))]\n",
    "valid_dataset = dataset[int(1/2*len(dataset)):int(3/4*len(dataset))]\n",
    "test_dataset  = dataset[int(3/4*len(dataset)):]"
   ]
  },
  {
   "cell_type": "code",
   "execution_count": 5,
   "id": "ad63df60",
   "metadata": {},
   "outputs": [
    {
     "data": {
      "text/plain": [
       "InteractionNetwork(\n",
       "  (interactionnetwork): MetaLayer(\n",
       "    edge_model=EdgeBlock(\n",
       "    (edge_mlp): Sequential(\n",
       "      (0): Linear(in_features=8, out_features=128, bias=True)\n",
       "      (1): BatchNorm1d(128, eps=1e-05, momentum=0.1, affine=True, track_running_stats=True)\n",
       "      (2): ReLU()\n",
       "      (3): Linear(in_features=128, out_features=128, bias=True)\n",
       "    )\n",
       "  ),\n",
       "    node_model=NodeBlock(\n",
       "    (node_mlp_1): Sequential(\n",
       "      (0): Linear(in_features=132, out_features=128, bias=True)\n",
       "      (1): BatchNorm1d(128, eps=1e-05, momentum=0.1, affine=True, track_running_stats=True)\n",
       "      (2): ReLU()\n",
       "      (3): Linear(in_features=128, out_features=128, bias=True)\n",
       "    )\n",
       "    (node_mlp_2): Sequential(\n",
       "      (0): Linear(in_features=132, out_features=128, bias=True)\n",
       "      (1): BatchNorm1d(128, eps=1e-05, momentum=0.1, affine=True, track_running_stats=True)\n",
       "      (2): ReLU()\n",
       "      (3): Linear(in_features=128, out_features=128, bias=True)\n",
       "    )\n",
       "  ),\n",
       "    global_model=GlobalBlock(\n",
       "    (global_mlp): Sequential(\n",
       "      (0): Linear(in_features=128, out_features=128, bias=True)\n",
       "      (1): BatchNorm1d(128, eps=1e-05, momentum=0.1, affine=True, track_running_stats=True)\n",
       "      (2): ReLU()\n",
       "      (3): Linear(in_features=128, out_features=2, bias=True)\n",
       "    )\n",
       "  )\n",
       "  )\n",
       "  (bn): BatchNorm1d(4, eps=1e-05, momentum=0.1, affine=True, track_running_stats=True)\n",
       ")"
      ]
     },
     "execution_count": 5,
     "metadata": {},
     "output_type": "execute_result"
    }
   ],
   "source": [
    "path  = dataset_name+'_best.pth'\n",
    "model = G.InteractionNetwork(128, dataset=dataset, inputs = dataset.num_node_features, outputs = 2)\n",
    "model.load_state_dict(torch.load(path,map_location='cpu'))\n",
    "model.eval()"
   ]
  },
  {
   "cell_type": "code",
   "execution_count": 6,
   "id": "af8547db",
   "metadata": {},
   "outputs": [],
   "source": [
    "batch_size = 32\n",
    "\n",
    "train_loader = DataLoader(train_dataset, batch_size=batch_size, shuffle=True)\n",
    "valid_loader = DataLoader(valid_dataset, batch_size=batch_size, shuffle=False)\n",
    "test_loader  = DataLoader(test_dataset,  batch_size=batch_size, shuffle=False)"
   ]
  },
  {
   "cell_type": "code",
   "execution_count": 7,
   "id": "a83ec38c",
   "metadata": {},
   "outputs": [],
   "source": [
    "def IN_analysis(loader):\n",
    "    t = tqdm(enumerate(loader),total=len(loader))\n",
    "    y_test = []\n",
    "    y_predict = []\n",
    "    for i,data in t: \n",
    "        try:\n",
    "            batch_output = model(data.x, data.edge_index, data.edge_attr, data.u, data.batch)\n",
    "        except:\n",
    "            batch_output = model(data.x, data.edge_index, data.edge_attr, None, data.batch)\n",
    "        for j,obj in enumerate(batch_output.detach().cpu().numpy()):\n",
    "            y_predict.append(batch_output.detach().cpu().numpy()[j][1])\n",
    "        y_test.append(data.y.cpu().numpy())\n",
    "    y_test = np.concatenate(y_test)\n",
    "    y_predict = np.array(y_predict)\n",
    "    y_predict = np.exp(y_predict)/(1+np.exp(y_predict))\n",
    "        \n",
    "    #calculate scores\n",
    "    B_score = []\n",
    "    S_score = []\n",
    "    t = tqdm(range(0, len(y_predict)))\n",
    "\n",
    "    for i in t:\n",
    "        if y_test[i]==0:\n",
    "            B_score.append(y_predict[i])\n",
    "        else:\n",
    "            S_score.append(y_predict[i])\n",
    "            \n",
    "    # create ROC curves and FOM\n",
    "    fpr_gnn, tpr_gnn, threshold_gnn = roc_curve(y_test, y_predict)\n",
    "    Seff = []\n",
    "    Brej = []\n",
    "    Figm = []\n",
    "    thre = np.linspace(min(y_predict),max(y_predict),100)\n",
    "    t    = tqdm(range(0,len(thre)))\n",
    "\n",
    "    for i in t:\n",
    "        Seff.append(len([x for x in S_score if x>=thre[i]])/len(S_score))\n",
    "        Brej.append(1-len([x for x in B_score if x>=thre[i]])/len(B_score))\n",
    "        Figm.append(len([x for x in S_score if x>=thre[i]])*np.sqrt(len(B_score))/\n",
    "                (np.sqrt(len([x for x in B_score if x>=thre[i]]))*len(S_score)))\n",
    "        \n",
    "\n",
    "    return y_test, y_predict, fpr_gnn, tpr_gnn, threshold_gnn, Seff, Brej, Figm, thre, B_score, S_score"
   ]
  },
  {
   "cell_type": "code",
   "execution_count": null,
   "id": "173a0f35",
   "metadata": {},
   "outputs": [
    {
     "data": {
      "application/vnd.jupyter.widget-view+json": {
       "model_id": "04a5cd18f5ba4e3d8ddc13e3af30c916",
       "version_major": 2,
       "version_minor": 0
      },
      "text/plain": [
       "  0%|          | 0/4740 [00:00<?, ?it/s]"
      ]
     },
     "metadata": {},
     "output_type": "display_data"
    }
   ],
   "source": [
    "y_test, y_predict, fpr_gnn_tr, tpr_gnn_tr, threshold_gnn_tr, Seff_tr, Brej_tr, Figm_tr, thre_tr, B_score_tr, S_score_tr = IN_analysis(train_loader)\n",
    "y_test, y_predict, fpr_gnn_vl, tpr_gnn_vl, threshold_gnn_vl, Seff_vl, Brej_vl, Figm_vl, thre_vl, B_score_vl, S_score_vl = IN_analysis(valid_loader)\n",
    "y_test, y_predict, fpr_gnn_te, tpr_gnn_te, threshold_gnn_te, Seff_te, Brej_te, Figm_te, thre_te, B_score_te, S_score_te = IN_analysis( test_loader)\n"
   ]
  },
  {
   "cell_type": "code",
   "execution_count": null,
   "id": "34b9531d",
   "metadata": {},
   "outputs": [],
   "source": [
    "#plt.style.use(hep.style.ROOT)\n",
    "\n",
    "store = pd.HDFStore(\"Loss_\"+dataset_name+\".h5\")\n",
    "plt.plot(store['loss_tr'],label='Training')\n",
    "plt.plot(store['loss_te'],label='Validation')\n",
    "plt.xlabel('Epochs')\n",
    "plt.ylabel('Loss')\n",
    "#plt.ylim([0,1])\n",
    "plt.legend()\n",
    "plt.savefig(f'IN_{dataset_name}/Loss.png',bbox_inches='tight')"
   ]
  },
  {
   "cell_type": "code",
   "execution_count": null,
   "id": "b55d44ce",
   "metadata": {},
   "outputs": [],
   "source": [
    "plt.style.use(hep.style.ROOT)\n",
    "    \n",
    "# plot ROC curves\n",
    "plt.figure()\n",
    "plt.plot(tpr_gnn_tr, fpr_gnn_tr, lw=2.5, label=\"Training, AUC = {:.1f}%\".format(auc(fpr_gnn_tr,tpr_gnn_tr)*100))\n",
    "plt.plot(tpr_gnn_vl, fpr_gnn_vl, lw=2.5, label=\"Validation, AUC = {:.1f}%\".format(auc(fpr_gnn_vl,tpr_gnn_vl)*100))\n",
    "plt.plot(tpr_gnn_te, fpr_gnn_te, lw=2.5, label=\"Test, AUC = {:.1f}%\".format(auc(fpr_gnn_te,tpr_gnn_te)*100))\n",
    "plt.xlabel(r'True positive rate')\n",
    "plt.ylabel(r'False positive rate')\n",
    "plt.semilogy()\n",
    "plt.ylim(0.001, 1)\n",
    "plt.xlim(0, 1)\n",
    "plt.grid(True)\n",
    "plt.legend(loc='upper left')\n",
    "plt.savefig(f'IN_{dataset_name}/ROC.png',bbox_inches='tight')\n",
    "plt.show()"
   ]
  },
  {
   "cell_type": "code",
   "execution_count": null,
   "id": "760b2484",
   "metadata": {},
   "outputs": [],
   "source": [
    "plt.style.use(hep.style.ROOT)\n",
    "\n",
    "plt.hist(S_score_te, 50, label='Signal score', alpha=0.7)\n",
    "plt.hist(B_score_te, 50, label='Background score', alpha=0.7)\n",
    "#plt.semilogy()\n",
    "plt.legend()\n",
    "plt.savefig(f'IN_{dataset_name}/Scoring.png',bbox_inches='tight')"
   ]
  },
  {
   "cell_type": "code",
   "execution_count": null,
   "id": "b9273fe5",
   "metadata": {},
   "outputs": [],
   "source": [
    "plt.style.use(hep.style.ROOT)\n",
    "\n",
    "plt.figure()\n",
    "plt.plot(Brej_tr, Seff_tr, lw=2.5, label=\"Training, AUC = {:.1f}%\".format(auc(Brej_tr,Seff_tr)*100))\n",
    "plt.plot(Brej_vl, Seff_vl, lw=2.5, label=\"Validation, AUC = {:.1f}%\".format(auc(Brej_vl,Seff_vl)*100))\n",
    "plt.plot(Brej_te, Seff_te, lw=2.5, label=\"Test, AUC = {:.1f}%\".format(auc(Brej_te,Seff_te)*100))\n",
    "plt.xlabel(r'Background Rejection')\n",
    "plt.ylabel(r'Signal Efficiency')\n",
    "plt.ylim(0.001, 1)\n",
    "plt.xlim(0.001, 1)\n",
    "plt.grid(True)\n",
    "plt.legend(loc='upper left')\n",
    "plt.savefig(f'IN_{dataset_name}/ROC2.png',bbox_inches='tight')\n",
    "plt.show()"
   ]
  },
  {
   "cell_type": "code",
   "execution_count": null,
   "id": "f9f7bb34",
   "metadata": {},
   "outputs": [],
   "source": [
    "plt.style.use(hep.style.ROOT)\n",
    "\n",
    "plt.figure()\n",
    "plt.plot(thre_tr, Figm_tr, lw=2.5, label = \"Training\")\n",
    "plt.plot(thre_vl, Figm_vl, lw=2.5, label = \"Validation\")\n",
    "plt.plot(thre_te, Figm_te, lw=2.5, label = \"Test\")\n",
    "plt.xlabel(r'GNN Prediction Threshold')\n",
    "plt.ylabel(r'f.o.m. ($\\epsilon_{s}/\\sqrt{\\epsilon_{b}}$)')\n",
    "plt.grid(True)\n",
    "plt.legend()\n",
    "plt.savefig(f'IN_{dataset_name}/FOM.png',bbox_inches='tight')\n",
    "plt.show()"
   ]
  },
  {
   "cell_type": "code",
   "execution_count": null,
   "id": "11ac5062-7736-4067-b831-7d65de640203",
   "metadata": {},
   "outputs": [],
   "source": [
    "fom  = [x for x in Figm_te if x!=np.inf]\n",
    "xmax = thre_te[np.argmax(fom)]"
   ]
  },
  {
   "cell_type": "code",
   "execution_count": null,
   "id": "0a945c6c",
   "metadata": {},
   "outputs": [],
   "source": [
    "X = []\n",
    "Y = []\n",
    "Z = []\n",
    "t = tqdm(range(0, len(test_dataset)))\n",
    "for i in t:\n",
    "    X.append(np.mean(test_dataset[i].u.numpy().transpose()[0]))\n",
    "    Y.append(np.mean(test_dataset[i].u.numpy().transpose()[1]))\n",
    "    Z.append(np.mean(test_dataset[i].u.numpy().transpose()[2]))"
   ]
  },
  {
   "cell_type": "code",
   "execution_count": null,
   "id": "1f4f3dfe",
   "metadata": {},
   "outputs": [],
   "source": [
    "X_sorted, keys_x = zip(*sorted(zip(X,range(0,len(X)))))\n",
    "Y_sorted, keys_y = zip(*sorted(zip(Y,range(0,len(Y)))))\n",
    "Z_sorted, keys_z = zip(*sorted(zip(Z,range(0,len(Z)))))"
   ]
  },
  {
   "cell_type": "code",
   "execution_count": null,
   "id": "7a141f9a",
   "metadata": {},
   "outputs": [],
   "source": [
    "nBins = 6\n",
    "Xbins = np.linspace(min(X),max(X),nBins+1)\n",
    "Ybins = np.linspace(min(Y),max(Y),nBins+1)\n",
    "Zbins = np.linspace(min(Z),max(Z),nBins+1)\n",
    "XYauc = []\n",
    "XZauc = []\n",
    "YZauc = []\n",
    "XYRS  = []\n",
    "XZRS  = []\n",
    "YZRS  = []\n",
    "XYRB  = []\n",
    "XZRB  = []\n",
    "YZRB  = []\n",
    "s     = tqdm(range(0,nBins))\n",
    "\n",
    "for i in s:\n",
    "    keys_xi = keys_x[len([x for x in X if x<=Xbins[i]]):len([x for x in X if x<=Xbins[i+1]])]\n",
    "    keys_yi = keys_y[len([x for x in Y if x<=Ybins[i]]):len([x for x in Y if x<=Ybins[i+1]])]\n",
    "    keys_zi = keys_z[len([x for x in Z if x<=Zbins[i]]):len([x for x in Z if x<=Zbins[i+1]])]\n",
    "    for j in tqdm(range(0,nBins)):\n",
    "        keys_xj = keys_x[len([x for x in X if x<=Xbins[j]]):len([x for x in X if x<=Xbins[j+1]])]\n",
    "        keys_yj = keys_y[len([x for x in Y if x<=Ybins[j]]):len([x for x in Y if x<=Ybins[j+1]])]\n",
    "        keys_zj = keys_z[len([x for x in Z if x<=Zbins[j]]):len([x for x in Z if x<=Zbins[j+1]])]\n",
    "        keys_xy = list(set(keys_xi).intersection(keys_yj))\n",
    "        keys_xz = list(set(keys_xi).intersection(keys_zj))\n",
    "        keys_yz = list(set(keys_yi).intersection(keys_zj))\n",
    "        a       = np.array([y_test[x] for x in keys_xy])\n",
    "        b       = np.array([y_predict[x] for x in keys_xy])\n",
    "        PredS   = np.array([a[i] for i in range(0,len(a)) if b[i]>=xmax])\n",
    "        PredB   = np.array([a[i] for i in range(0,len(a)) if b[i]<xmax])\n",
    "        try:\n",
    "            XYRS.append(len(PredS[PredS==1])/len(a[a==1]))\n",
    "        except ZeroDivisionError:\n",
    "            XYRS.append(0)\n",
    "        try:\n",
    "            XYRB.append(len(PredB[PredB==0])/len(a[a==0]))\n",
    "        except ZeroDivisionError:\n",
    "            XYRB.append(0)\n",
    "        fpr, tpr, threshold = roc_curve(a,b)\n",
    "        XYauc.append(auc(fpr,tpr))\n",
    "        a    = np.array([y_test[x] for x in keys_xz])\n",
    "        b    = np.array([y_predict[x] for x in keys_xz])\n",
    "        PredS= np.array([a[i] for i in range(0,len(a)) if b[i]>=xmax])\n",
    "        PredB= np.array([a[i] for i in range(0,len(a)) if b[i]<xmax])\n",
    "        try:\n",
    "            XZRS.append(len(PredS[PredS==1])/len(a[a==1]))\n",
    "        except ZeroDivisionError:\n",
    "            XZRS.append(0)\n",
    "        try:\n",
    "            XZRB.append(len(PredB[PredB==0])/len(a[a==0]))\n",
    "        except ZeroDivisionError:\n",
    "            XZRB.append(0)\n",
    "        fpr, tpr, threshold = roc_curve(a,b)\n",
    "        XZauc.append(auc(fpr,tpr))\n",
    "        a    = np.array([y_test[x] for x in keys_yz])\n",
    "        b    = np.array([y_predict[x] for x in keys_yz])\n",
    "        PredS= np.array([a[i] for i in range(0,len(a)) if b[i]>=xmax])\n",
    "        PredB= np.array([a[i] for i in range(0,len(a)) if b[i]<xmax])\n",
    "        try:\n",
    "            YZRS.append(len(PredS[PredS==1])/len(a[a==1]))\n",
    "        except ZeroDivisionError:\n",
    "            XYRS.append(0)\n",
    "        try:\n",
    "            YZRB.append(len(PredB[PredB==0])/len(a[a==0]))\n",
    "        except ZeroDivisionError:\n",
    "            YZRB.append(0)\n",
    "        fpr, tpr, threshold = roc_curve(a,b)\n",
    "        YZauc.append(auc(fpr,tpr))\n",
    "        \n",
    "xy   = np.flipud(np.array(XYauc).reshape(nBins,nBins).transpose())\n",
    "xz   = np.flipud(np.array(XZauc).reshape(nBins,nBins).transpose())\n",
    "yz   = np.flipud(np.array(YZauc).reshape(nBins,nBins).transpose())\n",
    "xyrs = np.flipud(np.array(XYRS).reshape(nBins,nBins).transpose())\n",
    "xzrs = np.flipud(np.array(XZRS).reshape(nBins,nBins).transpose())\n",
    "yzrs = np.flipud(np.array(YZRS).reshape(nBins,nBins).transpose())\n",
    "xyrb = np.flipud(np.array(XYRB).reshape(nBins,nBins).transpose())\n",
    "xzrb = np.flipud(np.array(XZRB).reshape(nBins,nBins).transpose())\n",
    "yzrb = np.flipud(np.array(YZRB).reshape(nBins,nBins).transpose())"
   ]
  },
  {
   "cell_type": "code",
   "execution_count": null,
   "id": "df0019e9-a895-4012-83f3-47622513dfa8",
   "metadata": {},
   "outputs": [],
   "source": [
    "plt.rc('axes',  titlesize=12)\n",
    "plt.rc('axes',  labelsize=16)\n",
    "plt.rc('xtick', labelsize=12)\n",
    "plt.rc('ytick', labelsize=12)\n",
    "\n",
    "fig, (ax0, ax1, ax2) = plt.subplots(nrows=1, ncols=3, sharex=True, figsize=(12, 6))\n",
    "im1 = ax0.imshow(xy,extent=(0,max(X),0,max(Y)))#,vmin=0.94,vmax=0.965)\n",
    "ax0.set(xlabel='X',ylabel='Y')\n",
    "divider = make_axes_locatable(ax0)\n",
    "cax = divider.append_axes(\"right\", size=\"5%\", pad=0.05)\n",
    "plt.colorbar(im1, cax=cax,format='%.2f')\n",
    "im2 = ax1.imshow(xz,extent=(0,max(X),0,max(Z)))#,vmin=0.94,vmax=0.965)\n",
    "ax1.set(xlabel='X',ylabel='Z')\n",
    "divider = make_axes_locatable(ax1)\n",
    "cax = divider.append_axes(\"right\", size=\"5%\", pad=0.05)\n",
    "plt.colorbar(im2, cax=cax,format='%.2f')\n",
    "im3 = ax2.imshow(yz,extent=(0,max(Y),0,max(Z)))#,vmin=0.94,vmax=0.965)\n",
    "ax2.set(xlabel='Y',ylabel='Z')\n",
    "divider = make_axes_locatable(ax2)\n",
    "cax = divider.append_axes(\"right\", size=\"5%\", pad=0.05)\n",
    "plt.colorbar(im3, cax=cax,format='%.2f')\n",
    "fig.suptitle('AUC score spatial distribution',fontsize=20)\n",
    "fig.tight_layout()\n",
    "plt.savefig(f'IN_{dataset_name}/AUC_dist.png',bbox_inches='tight')"
   ]
  },
  {
   "cell_type": "code",
   "execution_count": null,
   "id": "153f0ba1",
   "metadata": {},
   "outputs": [],
   "source": [
    "Xsig = []\n",
    "Ysig = []\n",
    "Zsig = []\n",
    "Xbkg = []\n",
    "Ybkg = []\n",
    "Zbkg = []\n",
    "t = tqdm(range(0, len(test_dataset)))\n",
    "for i in t:\n",
    "    if test_dataset[i].y==0:\n",
    "        Xbkg.append(np.mean(test_dataset[i].u.numpy().transpose()[0]))\n",
    "        Ybkg.append(np.mean(test_dataset[i].u.numpy().transpose()[1]))\n",
    "        Zbkg.append(np.mean(test_dataset[i].u.numpy().transpose()[2]))\n",
    "    else:\n",
    "        Xsig.append(np.mean(test_dataset[i].u.numpy().transpose()[0]))\n",
    "        Ysig.append(np.mean(test_dataset[i].u.numpy().transpose()[1]))\n",
    "        Zsig.append(np.mean(test_dataset[i].u.numpy().transpose()[2]))"
   ]
  },
  {
   "cell_type": "code",
   "execution_count": null,
   "id": "28c6a4b4-5e16-49d4-8b89-8c12cb8486e8",
   "metadata": {},
   "outputs": [],
   "source": [
    "plt.rcParams['figure.constrained_layout.use'] = True\n",
    "plt.rc('axes',  titlesize=16)\n",
    "plt.rc('axes',  labelsize=16)\n",
    "plt.rc('xtick', labelsize=12)\n",
    "plt.rc('ytick', labelsize=12)\n",
    "\n",
    "fig, (ax0, ax1) = plt.subplots(nrows=1, ncols=2, sharex=True, figsize=(12, 6))\n",
    "im1 = ax0.hist2d(Xsig,Ysig)\n",
    "ax0.set(xlabel='X',ylabel='Y',title='Signal Events')\n",
    "fig.colorbar(im1[3],ax=ax0)\n",
    "im2 = ax1.hist2d(Xbkg,Ybkg)\n",
    "ax1.set(xlabel='X',ylabel='Y',title='Background Events')\n",
    "fig.colorbar(im2[3],ax=ax1)\n",
    "plt.savefig(f'IN_{dataset_name}/EventDist.png',bbox_inches='tight')"
   ]
  },
  {
   "cell_type": "code",
   "execution_count": null,
   "id": "cb0a8399-e608-4a40-bca1-8037be126921",
   "metadata": {},
   "outputs": [],
   "source": [
    "# create energy histograms\n",
    "#if dataset_name=='DataMCmix' or dataset_name=='DataMCmix_SB50':\n",
    "#    Data   = pd.read_hdf('./Input_Dataframes/cdst_voxel_Data_calib.h5')\n",
    "#    MC     = pd.read_hdf('./Input_Dataframes/cdst_voxel_RecoBig.h5')\n",
    "#    Data   = Data[Data.dataset_id<Data.dataset_id.unique()[-1]]\n",
    "#    if dataset_name=='DataMCmix_SB50':\n",
    "#        MC = MC[MC.dataset_id<=MC.dataset_id.unique()[len(Data.dataset_id.unique())+100]]\n",
    "#    Dindex = np.where(dataset.y==1)[0]\n",
    "#    Mindex = np.where(dataset.y==0)[0]\n",
    "#    Dict_D = dict(zip(Data.dataset_id.unique(), Dindex))\n",
    "#    Dict_M = dict(zip(MC.dataset_id.unique(), Mindex))\n",
    "#    \n",
    "#    Data.binclass = 1\n",
    "#    MC.binclass   = 0\n",
    "#    Data['dataset_id'] = Data['dataset_id'].replace(Dict_D)\n",
    "#    eventInfo = MC[['dataset_id']].drop_duplicates().reset_index(drop=True)\n",
    "#    eventInfo['new_dataset_id'] = eventInfo['dataset_id'].replace(Dict_M)\n",
    "#    \n",
    "#    MC     = pd.merge(eventInfo,MC,on='dataset_id',how='right')\n",
    "#    MC     = MC.drop('dataset_id',axis=1)\n",
    "#    MC     = MC.rename(columns={'new_dataset_id':'dataset_id'})\n",
    "#    source = pd.concat([Data,MC])\n",
    "#    source = source.sort_values(by='dataset_id').reset_index(drop=True)\n",
    "#else:\n",
    "# Load source\n",
    "Raw_Files = DS.raw_file_names.fget(DS)\n",
    "if len(Raw_Files)==1:\n",
    "    source = pd.read_hdf(DS.raw_file_names.fget(DS)[0])\n",
    "else:\n",
    "    source = pd.DataFrame()\n",
    "    cntr   = 0\n",
    "    for file in tqdm(Raw_Files):\n",
    "        MCpart   = pd.read_hdf(file)\n",
    "\n",
    "        length = max(MCpart.dataset_id.unique())+1\n",
    "        MCpart.dataset_id += cntr\n",
    "        cntr  += length\n",
    "        source = pd.concat([source,MCpart])\n",
    "    #create new unique identifier\n",
    "    eventInfo = source[['dataset_id', 'binclass']].drop_duplicates().reset_index(drop=True)\n",
    "    dct_map = {eventInfo.iloc[i].dataset_id : i for i in range(len(eventInfo))}\n",
    "    #add dataset_id, pathname and basename to eventInfo\n",
    "    eventInfo = eventInfo.assign(dataset_id = eventInfo.dataset_id.map(dct_map))\n",
    "    #add dataset_id to data and drop event_id\n",
    "    source = source.assign(dataset_id = source.dataset_id.map(dct_map))\n",
    "    \n",
    "source_test = source[source.dataset_id>=source.dataset_id.unique()[int(3/4*len(source.dataset_id.unique()))]]\n",
    "E           = np.array(source_test.groupby(['dataset_id'])['energy'].sum())"
   ]
  },
  {
   "cell_type": "code",
   "execution_count": null,
   "id": "a94a5923-7ec0-4493-9c6b-4673f0371426",
   "metadata": {},
   "outputs": [],
   "source": [
    "#Verification of the energy histogram using 100 random samples\n",
    "\n",
    "R = random.sample(range(0,len(test_dataset)),100)\n",
    "for i in tqdm(R):\n",
    "    if (torch.tensor(DS.construct_center(DS,source_test[source_test.dataset_id==source_test.dataset_id.unique()[i]]))!=test_dataset[i].u).any():\n",
    "        print(i)\n",
    "        raise ValueError(f'Source and graph dataset indices are not matching up at index {i}!')"
   ]
  },
  {
   "cell_type": "code",
   "execution_count": null,
   "id": "b4d4daf6-8e61-4300-b402-f75bd6fa0111",
   "metadata": {},
   "outputs": [],
   "source": [
    "NBins = 20\n",
    "EBins = np.linspace(min(E),max(E),NBins+1)\n",
    "E_sorted, keys_e = zip(*sorted(zip(E,range(0,len(y_test)))))\n",
    "ERS   = []\n",
    "ERB   = []\n",
    "ERSe  = []\n",
    "ERBe  = []\n",
    "\n",
    "for i in tqdm(range(0,NBins)):\n",
    "    keys_ei = keys_e[len([x for x in E if x<=EBins[i]]):len([x for x in E if x<=EBins[i+1]])]\n",
    "    a       = np.array([y_test[x]    for x in keys_ei])\n",
    "    b       = np.array([y_predict[x] for x in keys_ei])\n",
    "    PredS   = np.array([a[i] for i in range(0,len(a)) if b[i]>=0.5])\n",
    "    PredB   = np.array([a[i] for i in range(0,len(a)) if b[i]<0.5])\n",
    "    Seff    = len(PredS[PredS==1])/len(a[a==1])\n",
    "    Beff    = len(PredB[PredB==0])/len(a[a==0])\n",
    "    ERS.append(Seff)\n",
    "    ERB.append(Beff)\n",
    "    ERSe.append(Seff*np.sqrt(1/len(PredS[PredS==1])+1/len(a[a==1])))\n",
    "    ERBe.append(Beff*np.sqrt(1/len(PredB[PredB==0])+1/len(a[a==0])))"
   ]
  },
  {
   "cell_type": "code",
   "execution_count": null,
   "id": "b7680cee-12c3-4755-b419-864403241f4c",
   "metadata": {},
   "outputs": [],
   "source": [
    "plt.style.use(hep.style.ROOT)\n",
    "\n",
    "plt.errorbar(EBins[1:],ERS,ERSe,label='Signal')\n",
    "plt.errorbar(EBins[1:],ERB,ERBe,label='Background')\n",
    "plt.ylabel('Selection Efficiency')\n",
    "plt.xlabel('Energy (MeV)')\n",
    "plt.legend()\n",
    "plt.savefig(f'IN_{dataset_name}/Efficiency.png',bbox_inches='tight')"
   ]
  },
  {
   "cell_type": "code",
   "execution_count": null,
   "id": "f23297f0-6d75-4642-b5e7-4e6f08d71021",
   "metadata": {},
   "outputs": [],
   "source": [
    "S           = []\n",
    "B           = []\n",
    "for i in tqdm(range(0,len(E))):\n",
    "    if y_predict[i]<xmax:\n",
    "        B.append(E[i])\n",
    "    else:\n",
    "        S.append(E[i])"
   ]
  },
  {
   "cell_type": "code",
   "execution_count": null,
   "id": "cc14a902-46b0-4673-a1e9-b9f67b112cb7",
   "metadata": {},
   "outputs": [],
   "source": [
    "plt.hist(E,50,label='All events')\n",
    "plt.hist(S,50,histtype='step',label='Labeled signal')\n",
    "plt.hist(B,50,histtype='step',label='Labeled background');\n",
    "plt.xlabel('MeV')\n",
    "plt.legend()"
   ]
  },
  {
   "cell_type": "code",
   "execution_count": null,
   "id": "68e0bb28-0ad7-4778-a0be-c9a966ef8bed",
   "metadata": {},
   "outputs": [],
   "source": [
    "plt.rc('axes',  titlesize=12)\n",
    "plt.rc('axes',  labelsize=16)\n",
    "plt.rc('xtick', labelsize=12)\n",
    "plt.rc('ytick', labelsize=12)\n",
    "\n",
    "fig, (ax0, ax1, ax2) = plt.subplots(nrows=1, ncols=3, sharex=True, figsize=(12, 6))\n",
    "im1 = ax0.imshow(xyrs,extent=(0,max(X),0,max(Y)))#,vmin=0.94,vmax=0.965)\n",
    "ax0.set(xlabel='X',ylabel='Y')\n",
    "divider = make_axes_locatable(ax0)\n",
    "cax = divider.append_axes(\"right\", size=\"5%\", pad=0.05)\n",
    "plt.colorbar(im1, cax=cax,format='%.2f')\n",
    "im2 = ax1.imshow(xzrs,extent=(0,max(X),0,max(Z)))#,vmin=0.94,vmax=0.965)\n",
    "ax1.set(xlabel='X',ylabel='Z')\n",
    "divider = make_axes_locatable(ax1)\n",
    "cax = divider.append_axes(\"right\", size=\"5%\", pad=0.05)\n",
    "plt.colorbar(im2, cax=cax,format='%.2f')\n",
    "im3 = ax2.imshow(yzrs,extent=(0,max(Y),0,max(Z)))#,vmin=0.94,vmax=0.965)\n",
    "ax2.set(xlabel='Y',ylabel='Z')\n",
    "divider = make_axes_locatable(ax2)\n",
    "cax = divider.append_axes(\"right\", size=\"5%\", pad=0.05)\n",
    "plt.colorbar(im3, cax=cax,format='%.2f')\n",
    "fig.tight_layout()\n",
    "plt.savefig(f'IN_{dataset_name}/Signal_eff_dist.png',bbox_inches='tight')"
   ]
  },
  {
   "cell_type": "code",
   "execution_count": null,
   "id": "395da90f-308b-49df-8c89-86d4393b1834",
   "metadata": {},
   "outputs": [],
   "source": [
    "plt.rc('axes',  titlesize=12)\n",
    "plt.rc('axes',  labelsize=16)\n",
    "plt.rc('xtick', labelsize=12)\n",
    "plt.rc('ytick', labelsize=12)\n",
    "\n",
    "fig, (ax0, ax1, ax2) = plt.subplots(nrows=1, ncols=3, sharex=True, figsize=(12, 6))\n",
    "im1 = ax0.imshow(xyrb,extent=(0,max(X),0,max(Y)))#,vmin=0.94,vmax=0.965)\n",
    "ax0.set(xlabel='X',ylabel='Y')\n",
    "divider = make_axes_locatable(ax0)\n",
    "cax = divider.append_axes(\"right\", size=\"5%\", pad=0.05)\n",
    "plt.colorbar(im1, cax=cax,format='%.2f')\n",
    "im2 = ax1.imshow(xzrb,extent=(0,max(X),0,max(Z)))#,vmin=0.94,vmax=0.965)\n",
    "ax1.set(xlabel='X',ylabel='Z')\n",
    "divider = make_axes_locatable(ax1)\n",
    "cax = divider.append_axes(\"right\", size=\"5%\", pad=0.05)\n",
    "plt.colorbar(im2, cax=cax,format='%.2f')\n",
    "im3 = ax2.imshow(yzrb,extent=(0,max(Y),0,max(Z)))#,vmin=0.94,vmax=0.965)\n",
    "ax2.set(xlabel='Y',ylabel='Z')\n",
    "divider = make_axes_locatable(ax2)\n",
    "cax = divider.append_axes(\"right\", size=\"5%\", pad=0.05)\n",
    "plt.colorbar(im3, cax=cax,format='%.2f')\n",
    "fig.tight_layout()\n",
    "plt.savefig(f'IN_{dataset_name}/Background_eff_dist.png',bbox_inches='tight')"
   ]
  },
  {
   "cell_type": "code",
   "execution_count": null,
   "id": "b3188913-7ff6-43ef-94da-3115ff39fa35",
   "metadata": {},
   "outputs": [],
   "source": [
    "Seff_te[np.argmax(fom)]"
   ]
  },
  {
   "cell_type": "code",
   "execution_count": null,
   "id": "29c49268-9c5c-434b-a0bc-e195e8f59326",
   "metadata": {},
   "outputs": [],
   "source": [
    "Brej_te[np.argmax(fom)]"
   ]
  },
  {
   "cell_type": "code",
   "execution_count": null,
   "id": "023c9c0c-5598-4816-ac8e-a39da45ad396",
   "metadata": {},
   "outputs": [],
   "source": [
    "max(fom)"
   ]
  },
  {
   "cell_type": "code",
   "execution_count": null,
   "id": "9d356131-1307-4428-a0ba-3c74cced449e",
   "metadata": {},
   "outputs": [],
   "source": [
    "thre_IN = thre_te\n",
    "Figm_IN = Figm_te\n",
    "Seff_IN = Seff_te\n",
    "Brej_IN = Brej_te\n",
    "%store thre_IN\n",
    "%store Figm_IN\n",
    "%store Seff_IN\n",
    "%store Brej_IN"
   ]
  },
  {
   "cell_type": "code",
   "execution_count": null,
   "id": "a76659cd-d6b9-4fb8-812e-a5c2e1f8254f",
   "metadata": {},
   "outputs": [],
   "source": [
    "from iminuit import Minuit, describe\n",
    "from probfit import Extended, BinnedChi2\n",
    "from probfit import gaussian, linear, poly2, Chi2Regression\n",
    "from scipy   import integrate"
   ]
  },
  {
   "cell_type": "code",
   "execution_count": null,
   "id": "cbdb7d84-9458-4615-a324-21d9e301374d",
   "metadata": {},
   "outputs": [],
   "source": [
    "def gaussNorm(x, mu, sigma, N):\n",
    "    return (N*np.exp(-0.5 * np.power((x - mu)/(sigma),2 ))/( sigma * np.sqrt( 2 * np.pi)))\n",
    "\n",
    "def LorentzNorm(x, mu, sigma, N):\n",
    "    return N/np.pi*(sigma/((x-mu)**2+sigma**2))\n",
    "\n",
    "def ShapedGauss(x, mu, sigma, beta, N):\n",
    "    return N*beta/(4*sigma*math.gamma(1/beta))*np.exp(-0.5*np.power((np.abs(x-mu)/(2*sigma)),beta))\n",
    "\n",
    "def expNorm(x, C, s, xmin, xmax):\n",
    "    return C * s * np.exp(-x * s) /  (np.exp(-s * xmin) - np.exp(-s * xmax))\n",
    "\n",
    "def gaussExp_Norm(x, mu, sigma, N, C, s, xmin, xmax) :\n",
    "    return gaussNorm(x, mu, sigma, N) + expNorm(x, C, s, xmin, xmax)\n",
    "\n",
    "def lorentzExp_Norm(x, mu, sigma, N, C, s, xmin, xmax):\n",
    "    return LorentzNorm(x, mu, sigma, N) + expNorm(x, C, s, xmin, xmax)\n",
    "\n",
    "def shapedgaussExp_Norm(x, mu, sigma, beta, N, C, s, xmin, xmax):\n",
    "    return ShapedGauss(x, mu, sigma, beta, N) + expNorm(x, C, s, xmin, xmax)"
   ]
  },
  {
   "cell_type": "code",
   "execution_count": null,
   "id": "baa55002-0ef9-4126-97c6-1d756b1ae4b9",
   "metadata": {},
   "outputs": [],
   "source": [
    "# Create the cost function.\n",
    "bins_fit   = 50\n",
    "fit_range  = (1.5, 1.7)\n",
    "mu         = 1.6\n",
    "sigma      = 0.007\n",
    "N          = 40000\n",
    "C          = 50000\n",
    "s          = 1.5\n",
    "\n",
    "#plt.figure(figsize=(5,4))\n",
    "chi2 = BinnedChi2(gaussExp_Norm, E, bins = bins_fit , bound=fit_range)\n",
    "chi2.show(args={'mu':mu, 'sigma':sigma, 'N':N,  'C':C, 's':s , 'xmin':fit_range[0], 'xmax':fit_range[1]})\n",
    "plt.show()"
   ]
  },
  {
   "cell_type": "code",
   "execution_count": null,
   "id": "44ed494f-f31e-45e8-8da4-ea97cb52683d",
   "metadata": {},
   "outputs": [],
   "source": [
    "# Perform the fit.\n",
    "#plt.figure(figsize=(8,5))\n",
    "minuit = Minuit(chi2,mu=mu,sigma=sigma,N=N, C=C,s=s,xmin=fit_range[0],xmax=fit_range[1],fix_xmin=True,fix_xmax=True)\n",
    "minuit.migrad()\n",
    "chi2.show(minuit)\n",
    "plt.show()\n",
    "\n",
    "mean      = minuit.values[0]\n",
    "mean_u    = minuit.errors[0]\n",
    "\n",
    "sigma     = minuit.values[1]\n",
    "sigma_u   = minuit.errors[1]\n",
    "\n",
    "N         = minuit.values[2]\n",
    "N_u       = minuit.errors[2]\n",
    "\n",
    "C         = minuit.values[3]\n",
    "C_u       = minuit.errors[3]\n",
    "\n",
    "s         = minuit.values[4]\n",
    "s_u       = minuit.errors[4]\n",
    "\n",
    "chi2_result = minuit.fval/chi2.ndof\n",
    "\n",
    "print(f'Mean:  {mean:.2f}         +/- {mean_u:.5f} ')\n",
    "print(f'Sigma: {sigma:.2f}        +/- {sigma_u:.5f} ')\n",
    "print(f'N:     {N:.1f}            +/- {N_u:.0f} ')\n",
    "print(f'C:     {C:.1f}            +/- {C_u:.0f} ')\n",
    "print(f's:     {s:.1f}            +/- {s_u:.2f} ')\n",
    "print(f'chi2:  {chi2_result:.2f}     ')"
   ]
  },
  {
   "cell_type": "code",
   "execution_count": null,
   "id": "f0206bbe-9510-4856-b66a-2222feab27f2",
   "metadata": {},
   "outputs": [],
   "source": [
    "Ecut  = E[E>minuit.values[0]-3*minuit.values[1]]\n",
    "ypcut = y_predict[E>minuit.values[0]-3*minuit.values[1]]\n",
    "ytcut = y_test[E>minuit.values[0]-3*minuit.values[1]]\n",
    "ytcut = ytcut[Ecut<minuit.values[0]+3*minuit.values[1]]\n",
    "ypcut = ypcut[Ecut<minuit.values[0]+3*minuit.values[1]]\n",
    "Ecut  = Ecut[Ecut<minuit.values[0]+3*minuit.values[1]]"
   ]
  },
  {
   "cell_type": "code",
   "execution_count": null,
   "id": "af799ed3-3cd1-4dc0-bf0a-04ddd7c658af",
   "metadata": {},
   "outputs": [],
   "source": [
    "NB = integrate.quad(lambda x: expNorm(x,minuit.values[3],minuit.values[4],fit_range[0],fit_range[1]),\n",
    "                    minuit.values[0]-3*minuit.values[1],minuit.values[0]+3*minuit.values[1])[0]\n",
    "NS = integrate.quad(lambda x: gaussNorm(x,minuit.values[0],minuit.values[1],minuit.values[2]),\n",
    "                    minuit.values[0]-3*minuit.values[1],minuit.values[0]+3*minuit.values[1])[0]"
   ]
  },
  {
   "cell_type": "code",
   "execution_count": null,
   "id": "8070316d-fb64-4825-a64e-afe883aa4e12",
   "metadata": {},
   "outputs": [],
   "source": [
    "ROCx1 = []\n",
    "ROCy1 = []\n",
    "FOM1  = []\n",
    "for c in np.linspace(0,1,20):\n",
    "    S    = [E[i] for i in range(len(y_predict)) if y_predict[i]>c]\n",
    "    try:\n",
    "        chi2 = BinnedChi2(gaussExp_Norm, S, bins = bins_fit , bound=fit_range)\n",
    "    except ValueError:\n",
    "        ROCx1.append(1)\n",
    "        ROCy1.append(0)\n",
    "        FOM1. append(0)\n",
    "        continue\n",
    "    minuit = Minuit(chi2, mu=mu, sigma=sigma, N=N*len(S)/len(E),  C=C*len(S)/len(E),\n",
    "                    s=s, xmin=fit_range[0], xmax=fit_range[1], fix_xmin=True, fix_xmax=True)\n",
    "    minuit.migrad()\n",
    "    chi2_result = minuit.fval/chi2.ndof\n",
    "    print(f'chi2: {chi2_result}')\n",
    "    nb = integrate.quad(lambda x: expNorm(x,minuit.values[3],minuit.values[4],minuit.values[5],minuit.values[6]),\n",
    "                    minuit.values[0]-3*minuit.values[1],minuit.values[0]+3*minuit.values[1])[0]\n",
    "    ns = integrate.quad(lambda x: gaussNorm(x,minuit.values[0],minuit.values[1],minuit.values[2]),\n",
    "                    minuit.values[0]-3*minuit.values[1],minuit.values[0]+3*minuit.values[1])[0]\n",
    "    ROCx1.append(1-nb/NB)\n",
    "    ROCy1.append(ns/NS)\n",
    "    FOM1. append(ns*np.sqrt(NB)/(NS*np.sqrt(nb)))"
   ]
  },
  {
   "cell_type": "code",
   "execution_count": null,
   "id": "09f5be7e-1bb7-4135-bcba-90ba8a542d3e",
   "metadata": {},
   "outputs": [],
   "source": [
    "fpr_gnn, tpr_gnn, threshold_gnn = roc_curve(ytcut, ypcut)"
   ]
  },
  {
   "cell_type": "code",
   "execution_count": null,
   "id": "6c1935de-974d-42cc-a961-e113d59a8a35",
   "metadata": {},
   "outputs": [],
   "source": [
    "plt.plot(ROCx1,ROCy1,label=\"Fit AUC = {:.1f}%\".format(integrate.trapezoid(ROCy1,ROCx1)*100))\n",
    "plt.plot(Brej_te, Seff_te, lw=2.5, label=\"Truth AUC = {:.1f}%\".format(auc(Brej_te,Seff_te)*100))\n",
    "plt.plot(1-fpr_gnn, tpr_gnn, lw=2.5, label=\"Truth AUC in peak region = {:.1f}%\".format(auc(fpr_gnn,tpr_gnn)*100))\n",
    "plt.xlabel(r'Background Rejection')\n",
    "plt.ylabel(r'Signal Efficiency')\n",
    "plt.legend()"
   ]
  },
  {
   "cell_type": "code",
   "execution_count": null,
   "id": "da2218e0-95f7-4d32-ba83-2805a7cd3802",
   "metadata": {},
   "outputs": [],
   "source": [
    "S    = [E[i] for i in range(len(y_predict)) if y_predict[i]>5/9]"
   ]
  },
  {
   "cell_type": "code",
   "execution_count": null,
   "id": "73f4c48d-99a3-4b9d-b1da-34c9077ffeec",
   "metadata": {},
   "outputs": [],
   "source": [
    "chi2 = BinnedChi2(gaussExp_Norm, S, bins = bins_fit , bound=fit_range)\n",
    "\n",
    "minuit = Minuit(chi2, mu=mu, sigma=sigma, N=N*len(S)/len(E),  C=C*len(S)/len(E),\n",
    "                    s=s, xmin=fit_range[0], xmax=fit_range[1], fix_xmin=True, fix_xmax=True)\n",
    "minuit.migrad()"
   ]
  },
  {
   "cell_type": "code",
   "execution_count": null,
   "id": "d3998e94-3fad-45ec-8d66-8171530df1d5",
   "metadata": {},
   "outputs": [],
   "source": [
    "nb = integrate.quad(lambda x: expNorm(x,minuit.values[3],minuit.values[4],minuit.values[5],minuit.values[6]),\n",
    "                minuit.values[0]-3*minuit.values[1],minuit.values[0]+3*minuit.values[1])[0]\n",
    "ns = integrate.quad(lambda x: gaussNorm(x,minuit.values[0],minuit.values[1],minuit.values[2]),\n",
    "                minuit.values[0]-3*minuit.values[1],minuit.values[0]+3*minuit.values[1])[0]"
   ]
  },
  {
   "cell_type": "code",
   "execution_count": null,
   "id": "f4056046-86d3-4220-ba8a-68aaa7416724",
   "metadata": {},
   "outputs": [],
   "source": [
    "nb"
   ]
  },
  {
   "cell_type": "code",
   "execution_count": null,
   "id": "32018f5b-0020-428d-98ef-3830e242bd19",
   "metadata": {},
   "outputs": [],
   "source": [
    "ns"
   ]
  },
  {
   "cell_type": "code",
   "execution_count": null,
   "id": "49710531-d9b0-4bbd-8823-18373f738c20",
   "metadata": {},
   "outputs": [],
   "source": [
    "Scut    = Ecut[ypcut>5/9]"
   ]
  },
  {
   "cell_type": "code",
   "execution_count": null,
   "id": "4660b2f9-476d-4632-a51f-863434aa8508",
   "metadata": {},
   "outputs": [],
   "source": [
    "ytscut = ytcut[ypcut>5/9]"
   ]
  },
  {
   "cell_type": "code",
   "execution_count": null,
   "id": "eac70a3f-31b0-43ae-b540-aa130b1458ea",
   "metadata": {},
   "outputs": [],
   "source": [
    "ypscut = ypcut[ypcut>5/9]"
   ]
  },
  {
   "cell_type": "code",
   "execution_count": null,
   "id": "90e39f43-1728-4829-a07a-f383b18c92ef",
   "metadata": {},
   "outputs": [],
   "source": [
    "len(ytscut)"
   ]
  },
  {
   "cell_type": "code",
   "execution_count": null,
   "id": "09ab053c-82b1-410a-b27d-2843528e7978",
   "metadata": {},
   "outputs": [],
   "source": [
    "len(Scut)"
   ]
  },
  {
   "cell_type": "code",
   "execution_count": null,
   "id": "8361bc57-8bc6-4ee1-93b8-139fd6483f4b",
   "metadata": {},
   "outputs": [],
   "source": [
    "nsT = len(Scut[ytscut==1])"
   ]
  },
  {
   "cell_type": "code",
   "execution_count": null,
   "id": "effe82dd-99bf-4d19-ab77-4e7892bea06c",
   "metadata": {},
   "outputs": [],
   "source": [
    "nbT = len(ytscut[ytscut==0])"
   ]
  },
  {
   "cell_type": "code",
   "execution_count": null,
   "id": "86cd2258-8a14-467b-9d2f-e794a1bac470",
   "metadata": {},
   "outputs": [],
   "source": [
    "NST = len(Ecut[ytcut==1])\n",
    "NBT = len(Ecut[ytcut==0])"
   ]
  },
  {
   "cell_type": "code",
   "execution_count": null,
   "id": "3bb71f0c-e567-4b9c-b1d1-53a106e62a01",
   "metadata": {},
   "outputs": [],
   "source": [
    "1-nb/NB"
   ]
  },
  {
   "cell_type": "code",
   "execution_count": null,
   "id": "b9fbd6c4-7be9-4fda-85b8-a514b9f41cfd",
   "metadata": {},
   "outputs": [],
   "source": [
    "ns/NS"
   ]
  },
  {
   "cell_type": "code",
   "execution_count": null,
   "id": "2b8f5e24-7d1e-498c-ae2a-e1570a216c44",
   "metadata": {},
   "outputs": [],
   "source": [
    "1-nbT/NBT"
   ]
  },
  {
   "cell_type": "code",
   "execution_count": null,
   "id": "8bbcc23d-fda9-4eaa-aa93-1ad30f90148b",
   "metadata": {},
   "outputs": [],
   "source": [
    "nsT/NST"
   ]
  },
  {
   "cell_type": "code",
   "execution_count": null,
   "id": "621a66c6-f283-4bba-aa48-0a756f99430e",
   "metadata": {},
   "outputs": [],
   "source": [
    "plt.hist(Scut,50);\n",
    "plt.hist(Scut[ytscut==1],50,histtype='step',lw=2.5);\n",
    "a = plt.hist(Scut[ytscut==0],50,histtype='step',lw=2.5);\n",
    "plt.plot(np.linspace(min(Scut),max(Scut),50),gaussNorm(np.linspace(min(Scut),max(Scut),50),\n",
    "                                                       minuit.values[0],minuit.values[1],minuit.values[2]*\n",
    "                                                       (max(Scut)-min(Scut))/50))\n",
    "plt.plot(np.linspace(min(Scut),max(Scut),50),expNorm(np.linspace(min(Scut),max(Scut),50),\n",
    "                                                       minuit.values[3]*(max(Scut)-min(Scut))/50,\n",
    "                                                     minuit.values[4],fit_range[0],fit_range[1]))\n",
    "plt.plot(np.linspace(min(Scut),max(Scut),50),gaussExp_Norm(np.linspace(min(Scut),max(Scut),50),\n",
    "                                                       minuit.values[0],minuit.values[1],\n",
    "                                                           minuit.values[2]*(max(Scut)-min(Scut))/50,\n",
    "                                                           minuit.values[3]*(max(Scut)-min(Scut))/50,\n",
    "                                                          minuit.values[4],minuit.values[5],minuit.values[6]))"
   ]
  },
  {
   "cell_type": "code",
   "execution_count": null,
   "id": "ce008f26-e0ae-44db-9fd9-d75f82c9ac4e",
   "metadata": {},
   "outputs": [],
   "source": [
    "sum(a[0])"
   ]
  },
  {
   "cell_type": "code",
   "execution_count": null,
   "id": "258f5297-e75a-4d70-a978-e88e48da8138",
   "metadata": {},
   "outputs": [],
   "source": [
    "(NST-NS)/NST"
   ]
  },
  {
   "cell_type": "code",
   "execution_count": null,
   "id": "a5348cf2-7278-4fbb-b3e8-267aa04128c4",
   "metadata": {},
   "outputs": [],
   "source": [
    "(NBT-NB)/NBT"
   ]
  },
  {
   "cell_type": "code",
   "execution_count": null,
   "id": "b4924b33-fb60-4659-94a8-5af8ff754fd1",
   "metadata": {},
   "outputs": [],
   "source": [
    "(nsT-ns)/nsT"
   ]
  },
  {
   "cell_type": "code",
   "execution_count": null,
   "id": "c2699ca6-e437-4e2e-9d4d-fa80a2ebfb82",
   "metadata": {},
   "outputs": [],
   "source": [
    "(nbT-nb)/nbT"
   ]
  },
  {
   "cell_type": "code",
   "execution_count": null,
   "id": "028ab9d8-9311-4260-9926-c608ae048c97",
   "metadata": {},
   "outputs": [],
   "source": [
    "nb"
   ]
  },
  {
   "cell_type": "code",
   "execution_count": null,
   "id": "37ca50ee-d887-46ff-aa9a-4e6470afc698",
   "metadata": {},
   "outputs": [],
   "source": [
    "nbT"
   ]
  },
  {
   "cell_type": "code",
   "execution_count": null,
   "id": "0fe2554a-42d2-420e-bc42-a1077cbf8abf",
   "metadata": {},
   "outputs": [],
   "source": [
    "NB"
   ]
  },
  {
   "cell_type": "code",
   "execution_count": null,
   "id": "62433a6f-b016-46c1-b2dd-882783c6a7be",
   "metadata": {},
   "outputs": [],
   "source": [
    "NBT"
   ]
  },
  {
   "cell_type": "code",
   "execution_count": null,
   "id": "a100a94f-63cb-4faf-9bfe-5693fba2efa1",
   "metadata": {},
   "outputs": [],
   "source": [
    "integrate.quad(lambda x: expNorm(x,minuit.values[3],minuit.values[4],minuit.values[5],minuit.values[6]),\n",
    "                minuit.values[0]-3*minuit.values[1],minuit.values[0]+3*minuit.values[1])[0]"
   ]
  },
  {
   "cell_type": "code",
   "execution_count": null,
   "id": "02f60897-977b-4fbb-a0e0-6fa7d039f030",
   "metadata": {},
   "outputs": [],
   "source": [
    "minuit.values[5]"
   ]
  },
  {
   "cell_type": "code",
   "execution_count": null,
   "id": "eeca79c8-0070-420c-8edb-5df1defec1b3",
   "metadata": {},
   "outputs": [],
   "source": [
    "fit_range"
   ]
  },
  {
   "cell_type": "code",
   "execution_count": null,
   "id": "8e037e52-306e-436e-8bd6-1a9cbb8ece2c",
   "metadata": {},
   "outputs": [],
   "source": [
    "ROCx1"
   ]
  },
  {
   "cell_type": "code",
   "execution_count": null,
   "id": "8ca62d63-e50a-41cd-abd4-cb60bdda4e33",
   "metadata": {},
   "outputs": [],
   "source": [
    "ROCy1"
   ]
  },
  {
   "cell_type": "code",
   "execution_count": null,
   "id": "f5fddeef-ac34-4637-bf74-7256e99b8bbe",
   "metadata": {},
   "outputs": [],
   "source": [
    "# Create the cost function.\n",
    "bins_fit   = 50\n",
    "fit_range  = (1.5, 1.7)\n",
    "mu         = 1.6\n",
    "sigma      = 0.0035\n",
    "beta       = 2\n",
    "N          = 40000\n",
    "C          = 50000\n",
    "s          = 1.5\n",
    "\n",
    "#plt.figure(figsize=(5,4))\n",
    "chi2 = BinnedChi2(shapedgaussExp_Norm, E, bins = bins_fit , bound=fit_range)\n",
    "chi2.show(args={'mu':mu, 'sigma':sigma, 'beta':beta, 'N':N,  'C':C, 's':s , 'xmin':fit_range[0], 'xmax':fit_range[1]})\n",
    "plt.show()"
   ]
  },
  {
   "cell_type": "code",
   "execution_count": null,
   "id": "9359b7a4-74e2-4296-bab7-ed21868d127b",
   "metadata": {},
   "outputs": [],
   "source": [
    "# Perform the fit.\n",
    "#plt.figure(figsize=(8,5))\n",
    "minuit = Minuit(chi2,mu=mu,sigma=sigma,beta=beta,N=N,C=C,s=s,xmin=fit_range[0],xmax=fit_range[1],fix_xmin=True,\n",
    "                fix_xmax=True)\n",
    "minuit.migrad()\n",
    "chi2.show(minuit)\n",
    "plt.show()\n",
    "\n",
    "mean      = minuit.values[0]\n",
    "mean_u    = minuit.errors[0]\n",
    "\n",
    "sigma     = minuit.values[1]\n",
    "sigma_u   = minuit.errors[1]\n",
    "\n",
    "N         = minuit.values[3]\n",
    "N_u       = minuit.errors[3]\n",
    "\n",
    "C         = minuit.values[4]\n",
    "C_u       = minuit.errors[4]\n",
    "\n",
    "s         = minuit.values[5]\n",
    "s_u       = minuit.errors[5]\n",
    "\n",
    "chi2_result = minuit.fval/chi2.ndof\n",
    "\n",
    "print(f'Mean:  {mean:.2f}         +/- {mean_u:.5f} ')\n",
    "print(f'Sigma: {sigma:.2f}        +/- {sigma_u:.5f} ')\n",
    "print(f'N:     {N:.1f}            +/- {N_u:.0f} ')\n",
    "print(f'C:     {C:.1f}            +/- {C_u:.0f} ')\n",
    "print(f's:     {s:.1f}            +/- {s_u:.2f} ')\n",
    "print(f'chi2:  {chi2_result:.2f}     ')"
   ]
  },
  {
   "cell_type": "code",
   "execution_count": null,
   "id": "8d85e15e-acc4-4c0b-8a49-21b282839087",
   "metadata": {},
   "outputs": [],
   "source": [
    "NB = integrate.quad(lambda x: expNorm(x,minuit.values[4],minuit.values[5],fit_range[0],fit_range[1]),\n",
    "                    minuit.values[0]-3*minuit.values[1],minuit.values[0]+3*minuit.values[1])[0]\n",
    "NS = integrate.quad(lambda x: ShapedGauss(x,minuit.values[0],minuit.values[1],minuit.values[2],minuit.values[3]),\n",
    "                    minuit.values[0]-3*minuit.values[1],minuit.values[0]+3*minuit.values[1])[0]\n",
    "\n",
    "ROCx2 = []\n",
    "ROCy2 = []\n",
    "FOM2  = []\n",
    "for c in np.linspace(0,1,20):\n",
    "    S    = [E[i] for i in range(len(y_predict)) if y_predict[i]>c]\n",
    "    try:\n",
    "        chi2 = BinnedChi2(shapedgaussExp_Norm, S, bins = bins_fit , bound=fit_range)\n",
    "    except ValueError:\n",
    "        ROCx2.append(1)\n",
    "        ROCy2.append(0)\n",
    "        FOM2. append(0)\n",
    "        continue\n",
    "    minuit = Minuit(chi2, mu=mu, sigma=sigma, beta=beta, N=N*len(S)/len(E),  C=C*len(S)/len(E),\n",
    "                    s=s, xmin=fit_range[0], xmax=fit_range[1], fix_xmin=True, fix_xmax=True)\n",
    "    minuit.migrad()\n",
    "    chi2_result = minuit.fval/chi2.ndof\n",
    "    print(f'chi2: {chi2_result}')\n",
    "    nb = integrate.quad(lambda x: expNorm(x,minuit.values[4],minuit.values[5],minuit.values[6],minuit.values[7]),\n",
    "                    minuit.values[0]-3*minuit.values[1],minuit.values[0]+3*minuit.values[1])[0]\n",
    "    ns = integrate.quad(lambda x: ShapedGauss(x,minuit.values[0],minuit.values[1],minuit.values[2],minuit.values[3]),\n",
    "                    minuit.values[0]-3*minuit.values[1],minuit.values[0]+3*minuit.values[1])[0]\n",
    "    ROCx2.append(1-nb/NB)\n",
    "    ROCy2.append(ns/NS)\n",
    "    FOM2. append(ns*np.sqrt(NB)/(NS*np.sqrt(nb)))"
   ]
  },
  {
   "cell_type": "code",
   "execution_count": null,
   "id": "82d58052-a6dc-4560-a722-dd7de6680650",
   "metadata": {},
   "outputs": [],
   "source": [
    "plt.plot(ROCx2,ROCy2,label=\"Fit AUC = {:.1f}%\".format(integrate.trapezoid(ROCy2,ROCx2)*100))\n",
    "plt.plot(Brej_te, Seff_te, lw=2.5, label=\"Truth AUC = {:.1f}%\".format(auc(Brej_te,Seff_te)*100))\n",
    "plt.plot(1-fpr_gnn, tpr_gnn, lw=2.5, label=\"Truth AUC in peak region = {:.1f}%\".format(auc(fpr_gnn,tpr_gnn)*100))\n",
    "plt.xlabel(r'Background Rejection')\n",
    "plt.ylabel(r'Signal Efficiency')\n",
    "plt.legend()"
   ]
  },
  {
   "cell_type": "code",
   "execution_count": null,
   "id": "b395d756-e057-450b-af56-cebb5a723cf2",
   "metadata": {},
   "outputs": [],
   "source": [
    "S    = [E[i] for i in range(len(y_predict)) if y_predict[i]>5/9]\n",
    "\n",
    "chi2 = BinnedChi2(shapedgaussExp_Norm, S, bins = bins_fit , bound=fit_range)\n",
    "\n",
    "minuit = Minuit(chi2, mu=mu, sigma=sigma, beta=beta, N=N*len(S)/len(E),  C=C*len(S)/len(E),\n",
    "                    s=s, xmin=fit_range[0], xmax=fit_range[1], fix_xmin=True, fix_xmax=True)\n",
    "minuit.migrad()"
   ]
  },
  {
   "cell_type": "code",
   "execution_count": null,
   "id": "92bf587d-e0de-4f00-8800-241e0014f810",
   "metadata": {},
   "outputs": [],
   "source": [
    "plt.hist(Scut,50);\n",
    "plt.hist(Scut[ytscut==1],50,histtype='step',lw=2.5);\n",
    "a = plt.hist(Scut[ytscut==0],50,histtype='step',lw=2.5);\n",
    "plt.plot(np.linspace(min(Scut),max(Scut),50),ShapedGauss(np.linspace(min(Scut),max(Scut),50),\n",
    "                                                       minuit.values[0],minuit.values[1],minuit.values[2],minuit.values[3]*\n",
    "                                                       (max(Scut)-min(Scut))/50))\n",
    "plt.plot(np.linspace(min(Scut),max(Scut),50),expNorm(np.linspace(min(Scut),max(Scut),50),\n",
    "                                                       minuit.values[4]*(max(Scut)-min(Scut))/50,\n",
    "                                                     minuit.values[5],fit_range[0],fit_range[1]))\n",
    "plt.plot(np.linspace(min(Scut),max(Scut),50),shapedgaussExp_Norm(np.linspace(min(Scut),max(Scut),50),\n",
    "                                                       minuit.values[0],minuit.values[1],minuit.values[2],\n",
    "                                                           minuit.values[3]*(max(Scut)-min(Scut))/50,\n",
    "                                                           minuit.values[4]*(max(Scut)-min(Scut))/50,\n",
    "                                                          minuit.values[5],minuit.values[6],minuit.values[7]))"
   ]
  },
  {
   "cell_type": "code",
   "execution_count": null,
   "id": "926933d7-8bce-40b0-b0bc-526c263020d5",
   "metadata": {},
   "outputs": [],
   "source": [
    "nb = integrate.quad(lambda x: expNorm(x,minuit.values[4],minuit.values[5],minuit.values[6],minuit.values[7]),\n",
    "                minuit.values[0]-3*minuit.values[1],minuit.values[0]+3*minuit.values[1])[0]\n",
    "ns = integrate.quad(lambda x: ShapedGauss(x,minuit.values[0],minuit.values[1],minuit.values[2],minuit.values[3]),\n",
    "                minuit.values[0]-3*minuit.values[1],minuit.values[0]+3*minuit.values[1])[0]"
   ]
  },
  {
   "cell_type": "code",
   "execution_count": null,
   "id": "907d3a23-774b-4b50-be68-9c850bbcd27d",
   "metadata": {},
   "outputs": [],
   "source": [
    "nb"
   ]
  },
  {
   "cell_type": "code",
   "execution_count": null,
   "id": "6644508e-849a-40af-b831-28446b143f4e",
   "metadata": {},
   "outputs": [],
   "source": [
    "nbT"
   ]
  },
  {
   "cell_type": "code",
   "execution_count": null,
   "id": "3bbd71a6-4261-40fe-9661-064ddc2e3432",
   "metadata": {},
   "outputs": [],
   "source": [
    "ns"
   ]
  },
  {
   "cell_type": "code",
   "execution_count": null,
   "id": "01ee722a-5dbc-4cba-b674-48b00cf66517",
   "metadata": {},
   "outputs": [],
   "source": [
    "nsT"
   ]
  },
  {
   "cell_type": "code",
   "execution_count": null,
   "id": "193618d2-e6c3-4389-90d1-d7128f633af6",
   "metadata": {},
   "outputs": [],
   "source": [
    "NS"
   ]
  },
  {
   "cell_type": "code",
   "execution_count": null,
   "id": "3c5496cf-c55f-45d2-afe0-5a76bd16d55d",
   "metadata": {},
   "outputs": [],
   "source": [
    "NST"
   ]
  },
  {
   "cell_type": "code",
   "execution_count": null,
   "id": "c9062caf-f620-4900-92c0-420453fe9b1b",
   "metadata": {},
   "outputs": [],
   "source": [
    "NB"
   ]
  },
  {
   "cell_type": "code",
   "execution_count": null,
   "id": "69d5a646-2009-4dab-be6a-fe8af2a62ec4",
   "metadata": {},
   "outputs": [],
   "source": [
    "NBT"
   ]
  },
  {
   "cell_type": "code",
   "execution_count": null,
   "id": "4930a67f-c410-4c8a-b833-d05da1a23b6e",
   "metadata": {},
   "outputs": [],
   "source": [
    "D.RecoBig_all_10mm_R2(root='GNN_datasets/')"
   ]
  },
  {
   "cell_type": "code",
   "execution_count": null,
   "id": "21ef096c-6f89-4343-a83c-36730db6a8ea",
   "metadata": {},
   "outputs": [],
   "source": [
    "D.RecoNew_all_10mm_R2_hitsopt_Paolina_151515(root='./')"
   ]
  },
  {
   "cell_type": "code",
   "execution_count": null,
   "id": "9a1022a5-5679-40a6-b3b7-cdc97a43a3aa",
   "metadata": {},
   "outputs": [],
   "source": [
    "D.RecoNew_all_10mm_R2_voxopt_Paolina(root='./')"
   ]
  },
  {
   "cell_type": "code",
   "execution_count": null,
   "id": "aa7f7601-e560-441e-aeef-7b99c0b4e85f",
   "metadata": {},
   "outputs": [],
   "source": []
  }
 ],
 "metadata": {
  "kernelspec": {
   "display_name": "Python 3 (ipykernel)",
   "language": "python",
   "name": "python3"
  },
  "language_info": {
   "codemirror_mode": {
    "name": "ipython",
    "version": 3
   },
   "file_extension": ".py",
   "mimetype": "text/x-python",
   "name": "python",
   "nbconvert_exporter": "python",
   "pygments_lexer": "ipython3",
   "version": "3.8.18"
  }
 },
 "nbformat": 4,
 "nbformat_minor": 5
}
